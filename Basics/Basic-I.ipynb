{
 "cells": [
  {
   "cell_type": "markdown",
   "metadata": {},
   "source": [
    "# Basics I"
   ]
  },
  {
   "cell_type": "markdown",
   "metadata": {},
   "source": [
    "## Documentation/ Comments"
   ]
  },
  {
   "cell_type": "code",
   "execution_count": null,
   "metadata": {},
   "outputs": [],
   "source": [
    "# This is a single-line comment\n",
    "\n",
    "\"\"\"\n",
    "This is a multi-line comment or docstring\n",
    "commonly used for documentation.\n",
    "\"\"\"\n",
    "print(\"Hello, World!\")  # This prints Hello, World!\n"
   ]
  },
  {
   "cell_type": "markdown",
   "metadata": {},
   "source": [
    "## Variables and Data types"
   ]
  },
  {
   "cell_type": "code",
   "execution_count": null,
   "metadata": {},
   "outputs": [],
   "source": [
    "# Variable assignment\n",
    "x = 5        # int\n",
    "y = 3.14     # float\n",
    "name = \"Alice\"  # string\n",
    "is_student = True  # boolean\n",
    "\n",
    "# Type conversion\n",
    "x = float(x)  # convert int to float\n",
    "y = int(y)    # convert float to int\n",
    "print(type(name))  # Output: <class 'str'>"
   ]
  },
  {
   "cell_type": "markdown",
   "metadata": {},
   "source": [
    "## Operators"
   ]
  },
  {
   "cell_type": "markdown",
   "metadata": {},
   "source": [
    "### Arithmetic Operators"
   ]
  },
  {
   "cell_type": "code",
   "execution_count": null,
   "metadata": {},
   "outputs": [],
   "source": [
    "a = 10\n",
    "b = 3\n",
    "print(a + b)  # Addition: 13\n",
    "print(a - b)  # Subtraction: 7\n",
    "print(a * b)  # Multiplication: 30\n",
    "print(a / b)  # Division: 3.3333333333333335\n",
    "print(a % b)  # Modulus: 1\n",
    "print(a ** b)  # Exponentiation: 1000\n",
    "print(a // b)  # Floor division: 3"
   ]
  },
  {
   "cell_type": "markdown",
   "metadata": {},
   "source": [
    "### Comparison Operators"
   ]
  },
  {
   "cell_type": "code",
   "execution_count": null,
   "metadata": {},
   "outputs": [],
   "source": [
    "a = 10\n",
    "b = 3\n",
    "print(a == b)  # Equal: False\n",
    "print(a != b)  # Not equal: True\n",
    "print(a > b)   # Greater than: True\n",
    "print(a < b)   # Less than: False\n",
    "print(a >= b)  # Greater than or equal to: True\n",
    "print(a <= b)  # Less than or equal to: False"
   ]
  },
  {
   "cell_type": "markdown",
   "metadata": {},
   "source": [
    "### Logical Operators"
   ]
  },
  {
   "cell_type": "code",
   "execution_count": null,
   "metadata": {},
   "outputs": [],
   "source": [
    "a = True\n",
    "b = False\n",
    "print(a and b)  # Logical AND: False\n",
    "print(a or b)   # Logical OR: True\n",
    "print(not a)    # Logical NOT: False"
   ]
  },
  {
   "cell_type": "markdown",
   "metadata": {},
   "source": [
    "### Assignment Operators"
   ]
  },
  {
   "cell_type": "code",
   "execution_count": null,
   "metadata": {},
   "outputs": [],
   "source": [
    "a = 5\n",
    "a += 3  # Equivalent to: a = a + 3\n",
    "print(a)  # Output: 8\n",
    "a -= 2  # Equivalent to: a = a - 2\n",
    "print(a)  # Output: 6\n",
    "a *= 4  # Equivalent to: a = a * 4\n",
    "print(a)  # Output: 24\n",
    "a /= 3  # Equivalent to: a = a / 3\n",
    "print(a)  # Output: 8.0"
   ]
  },
  {
   "cell_type": "markdown",
   "metadata": {},
   "source": [
    "### Bitwise Operators"
   ]
  },
  {
   "cell_type": "code",
   "execution_count": null,
   "metadata": {},
   "outputs": [],
   "source": [
    "a = 5  # Binary: 101\n",
    "b = 3  # Binary: 011\n",
    "print(a & b)  # Bitwise AND: 1 (Binary: 001)\n",
    "print(a | b)  # Bitwise OR: 7 (Binary: 111)\n",
    "print(a ^ b)  # Bitwise XOR: 6 (Binary: 110)\n",
    "print(~a)     # Bitwise NOT: -6 (Binary: -110)\n",
    "print(a << 1)  # Bitwise left shift: 10 (Binary: 1010)\n",
    "print(a >> 1)  # Bitwise right shift: 2 (Binary: 010)"
   ]
  },
  {
   "cell_type": "markdown",
   "metadata": {},
   "source": [
    "## Control Flow"
   ]
  },
  {
   "cell_type": "markdown",
   "metadata": {},
   "source": [
    "### Conditional Statements"
   ]
  },
  {
   "cell_type": "code",
   "execution_count": null,
   "metadata": {},
   "outputs": [],
   "source": [
    "x = 10\n",
    "if x > 0:\n",
    "    print(\"x is positive\")\n",
    "elif x == 0:\n",
    "    print(\"x is zero\")\n",
    "else:\n",
    "    print(\"x is negative\")"
   ]
  },
  {
   "cell_type": "markdown",
   "metadata": {},
   "source": [
    "### Loops"
   ]
  },
  {
   "cell_type": "code",
   "execution_count": null,
   "metadata": {},
   "outputs": [],
   "source": [
    "# for loop\n",
    "print('For Loop')\n",
    "for i in range(5):\n",
    "    print(i)  # Output: 0 1 2 3 4\n",
    "\n",
    "# while loop\n",
    "print('\\nWhile loop')\n",
    "i = 0\n",
    "while i < 5:\n",
    "    print(i)  # Output: 0 1 2 3 4\n",
    "    i += 1\n",
    "\n",
    "# break, continue, and pass\n",
    "print('\\nBreak')\n",
    "for i in range(5):\n",
    "    if i == 2:\n",
    "        break  # Exit the loop when i is 2\n",
    "    print(i)  # Output: 0 1\n",
    "\n",
    "print('\\nContinue')\n",
    "for i in range(5):\n",
    "    if i == 2:\n",
    "        continue  # Skip the rest of the loop when i is 2\n",
    "    print(i)  # Output: 0 1 3 4\n",
    "\n",
    "print('\\nPass')\n",
    "for i in range(5):\n",
    "    if i == 2:\n",
    "        pass  # Do nothing and continue\n",
    "    print(i)  # Output: 0 1 2 3 4"
   ]
  },
  {
   "cell_type": "markdown",
   "metadata": {},
   "source": [
    "## Functions"
   ]
  },
  {
   "cell_type": "code",
   "execution_count": null,
   "metadata": {},
   "outputs": [],
   "source": [
    "# Defining a function\n",
    "def greet(name):\n",
    "    return f\"Hello, {name}!\"\n",
    "\n",
    "# Function arguments\n",
    "def add(a, b=5):\n",
    "    return a + b\n",
    "\n",
    "print(greet(\"Alice\"))  # Output: Hello, Alice!\n",
    "print(add(3))  # Output: 8 (since b defaults to 5)\n",
    "print(add(3, 7))  # Output: 10\n",
    "\n",
    "# Lambda functions\n",
    "multiply = lambda x, y: x * y\n",
    "print(multiply(3, 4))  # Output: 12"
   ]
  },
  {
   "cell_type": "markdown",
   "metadata": {},
   "source": [
    "## Data Structures"
   ]
  },
  {
   "cell_type": "markdown",
   "metadata": {},
   "source": [
    "### Lists"
   ]
  },
  {
   "cell_type": "code",
   "execution_count": null,
   "metadata": {},
   "outputs": [],
   "source": [
    "# Creating and manipulating lists\n",
    "fruits = [\"apple\", \"banana\", \"cherry\"]\n",
    "print(fruits[0])  # Output: apple\n",
    "fruits.append(\"orange\")\n",
    "print(fruits)  # Output: ['apple', 'banana', 'cherry', 'orange']\n",
    "fruits.remove(\"banana\")\n",
    "print(fruits)  # Output: ['apple', 'cherry', 'orange']\n",
    "\n",
    "# List comprehensions\n",
    "squares = [x**2 for x in range(5)]\n",
    "print(squares)  # Output: [0, 1, 4, 9, 16]"
   ]
  },
  {
   "cell_type": "markdown",
   "metadata": {},
   "source": [
    "### Tuples"
   ]
  },
  {
   "cell_type": "code",
   "execution_count": null,
   "metadata": {},
   "outputs": [],
   "source": [
    "# Creating and manipulating tuples\n",
    "point = (2, 3)\n",
    "print(point[0])  # Output: 2\n",
    "# Tuples are immutable; you cannot modify them directly"
   ]
  },
  {
   "cell_type": "markdown",
   "metadata": {},
   "source": [
    "### Dictionaries"
   ]
  },
  {
   "cell_type": "code",
   "execution_count": null,
   "metadata": {},
   "outputs": [],
   "source": [
    "# Creating and manipulating dictionaries\n",
    "person = {\"name\": \"Alice\", \"age\": 25}\n",
    "print(person[\"name\"])  # Output: Alice\n",
    "person[\"age\"] = 26\n",
    "print(person)  # Output: {'name': 'Alice', 'age': 26}\n",
    "person[\"city\"] = \"New York\"\n",
    "print(person)  # Output: {'name': 'Alice', 'age': 26, 'city': 'New York'}"
   ]
  },
  {
   "cell_type": "markdown",
   "metadata": {},
   "source": [
    "### Sets"
   ]
  },
  {
   "cell_type": "code",
   "execution_count": null,
   "metadata": {},
   "outputs": [],
   "source": [
    "# Creating and manipulating sets\n",
    "colors = {\"red\", \"green\", \"blue\"}\n",
    "print(\"red\" in colors)  # Output: True\n",
    "colors.add(\"yellow\")\n",
    "print(colors)  # Output: {'red', 'green', 'blue', 'yellow'}\n",
    "colors.remove(\"green\")\n",
    "print(colors)  # Output: {'red', 'blue', 'yellow'}"
   ]
  },
  {
   "cell_type": "markdown",
   "metadata": {},
   "source": [
    "### Strings"
   ]
  },
  {
   "cell_type": "code",
   "execution_count": null,
   "metadata": {},
   "outputs": [],
   "source": [
    "# String operations and methods\n",
    "greeting = \"Hello, World!\"\n",
    "print(greeting.upper())  # Output: HELLO, WORLD!\n",
    "print(greeting.lower())  # Output: hello, world!\n",
    "print(greeting.split())  # Output: ['Hello,', 'World!']\n",
    "print(\" \".join([\"Hello\", \"World\"]))  # Output: Hello World\n",
    "\n",
    "# String formatting\n",
    "name = \"Alice\"\n",
    "age = 25\n",
    "print(f\"My name is {name} and I am {age} years old.\")  # Output: My name is Alice and I am 25 years old."
   ]
  },
  {
   "cell_type": "markdown",
   "metadata": {},
   "source": [
    "## Input and Output"
   ]
  },
  {
   "cell_type": "code",
   "execution_count": null,
   "metadata": {},
   "outputs": [],
   "source": [
    "# Reading input from the user\n",
    "name = input(\"Enter your name: \")\n",
    "print(f\"Hello, {name}!\")\n",
    "\n",
    "# File I/O operations\n",
    "# Writing to a file\n",
    "with open(\"example.txt\", \"w\") as f:\n",
    "    f.write(\"Hello, World!\")\n",
    "\n",
    "# Reading from a file\n",
    "with open(\"example.txt\", \"r\") as f:\n",
    "    content = f.read()\n",
    "    print(content)  # Output: Hello, World!"
   ]
  },
  {
   "cell_type": "markdown",
   "metadata": {},
   "source": [
    "## Modules and Packages"
   ]
  },
  {
   "cell_type": "code",
   "execution_count": null,
   "metadata": {},
   "outputs": [],
   "source": [
    "# Importing modules\n",
    "import math\n",
    "print(math.sqrt(16))  # Output: 4.0\n",
    "\n",
    "# Standard library overview\n",
    "import os\n",
    "print(os.getcwd())  # Output: Current working directory\n",
    "\n",
    "# Creating and using packages\n",
    "# Suppose you have a package named 'mypackage' with a module 'mymodule.py'\n",
    "# Inside 'mypackage/mymodule.py':\n",
    "def hello():\n",
    "    print(\"Hello from mymodule!\")\n",
    "\n",
    "# To use it:\n",
    "from mypackage import mymodule\n",
    "mymodule.hello()  # Output: Hello from mymodule!"
   ]
  },
  {
   "cell_type": "markdown",
   "metadata": {},
   "source": [
    "## Error handling"
   ]
  },
  {
   "cell_type": "code",
   "execution_count": null,
   "metadata": {},
   "outputs": [],
   "source": [
    "# Exceptions\n",
    "try:\n",
    "    result = 10 / 0\n",
    "except ZeroDivisionError:\n",
    "    print(\"Cannot divide by zero!\")\n",
    "else:\n",
    "    print(\"Division successful\")\n",
    "finally:\n",
    "    print(\"This block is always executed\")\n",
    "\n",
    "# Raising exceptions\n",
    "def divide(a, b):\n",
    "    if b == 0:\n",
    "        raise ValueError(\"Cannot divide by zero!\")\n",
    "    return a / b\n",
    "\n",
    "try:\n",
    "    divide(10, 0)\n",
    "except ValueError as e:\n",
    "    print(e)  # Output: Cannot divide by zero!"
   ]
  }
 ],
 "metadata": {
  "kernelspec": {
   "display_name": ".venv",
   "language": "python",
   "name": "python3"
  },
  "language_info": {
   "codemirror_mode": {
    "name": "ipython",
    "version": 3
   },
   "file_extension": ".py",
   "mimetype": "text/x-python",
   "name": "python",
   "nbconvert_exporter": "python",
   "pygments_lexer": "ipython3",
   "version": "3.10.14"
  }
 },
 "nbformat": 4,
 "nbformat_minor": 2
}
