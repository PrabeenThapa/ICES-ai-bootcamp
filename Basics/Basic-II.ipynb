{
 "cells": [
  {
   "cell_type": "markdown",
   "metadata": {},
   "source": [
    "# Basic II "
   ]
  },
  {
   "cell_type": "markdown",
   "metadata": {
    "vscode": {
     "languageId": "plaintext"
    }
   },
   "source": [
    "## Logging"
   ]
  },
  {
   "cell_type": "code",
   "execution_count": null,
   "metadata": {},
   "outputs": [],
   "source": [
    "import logging\n",
    "\n",
    "logging.basicConfig(level=logging.INFO)\n",
    "\n",
    "logger = logging.getLogger(__name__)\n",
    "logger.info(\"This is an info message\")\n",
    "logger.warning(\"This is a warning message\")\n",
    "logger.error(\"This is an error message\")"
   ]
  },
  {
   "cell_type": "markdown",
   "metadata": {},
   "source": [
    "## Memoization"
   ]
  },
  {
   "cell_type": "code",
   "execution_count": null,
   "metadata": {},
   "outputs": [],
   "source": [
    "from functools import lru_cache\n",
    "\n",
    "@lru_cache(maxsize=None)\n",
    "def fibonacci(n):\n",
    "    if n < 2:\n",
    "        return n\n",
    "    return fibonacci(n-1) + fibonacci(n-2)\n",
    "\n",
    "print(fibonacci(10))  # Output: 55"
   ]
  },
  {
   "cell_type": "markdown",
   "metadata": {},
   "source": [
    "## Generator"
   ]
  },
  {
   "cell_type": "code",
   "execution_count": null,
   "metadata": {},
   "outputs": [],
   "source": [
    "def countdown(n):\n",
    "    while n > 0:\n",
    "        yield n\n",
    "        n -= 1\n",
    "# a = 0\n",
    "for i in countdown(5):\n",
    "    # a+= 1\n",
    "    print(i)\n",
    "    # print(a)"
   ]
  },
  {
   "cell_type": "markdown",
   "metadata": {},
   "source": [
    "### Difference between list and generator"
   ]
  },
  {
   "cell_type": "code",
   "execution_count": null,
   "metadata": {},
   "outputs": [],
   "source": [
    "# List comprehension example\n",
    "def list_example(n):\n",
    "    return [i ** 2 for i in range(n)]\n",
    "\n",
    "squares_list = list_example(10)\n",
    "print(squares_list)  # Output: [0, 1, 4, 9, 16, 25, 36, 49, 64, 81]\n",
    "\n",
    "# Accessing elements\n",
    "for square in squares_list:\n",
    "    print(square)"
   ]
  },
  {
   "cell_type": "code",
   "execution_count": null,
   "metadata": {},
   "outputs": [],
   "source": [
    "# Generator example\n",
    "def generator_example(n):\n",
    "    for i in range(n):\n",
    "        yield i ** 2\n",
    "\n",
    "squares_generator = generator_example(10)\n",
    "print(squares_generator)  # Output: <generator object generator_example at 0x...>"
   ]
  },
  {
   "cell_type": "code",
   "execution_count": null,
   "metadata": {},
   "outputs": [],
   "source": [
    "# List comprehension for large data\n",
    "large_list = [i for i in range(1000)]\n",
    "print(large_list[0])\n",
    "\n",
    "# Generator for large data\n",
    "large_generator = (i for i in range(1000000))\n",
    "print(large_generator[0])"
   ]
  },
  {
   "cell_type": "code",
   "execution_count": null,
   "metadata": {},
   "outputs": [],
   "source": [
    "# Iterating over the generator\n",
    "for value in large_generator:\n",
    "    print(value)\n",
    "    if value >= 5:\n",
    "        break"
   ]
  },
  {
   "cell_type": "code",
   "execution_count": null,
   "metadata": {},
   "outputs": [],
   "source": [
    "# Generator for large data\n",
    "large_generator = (i for i in range(1000000))\n",
    "\n",
    "# Using next() to get elements\n",
    "print(next(large_generator))  # Output: 0\n",
    "print(next(large_generator))  # Output: 1\n",
    "print(next(large_generator))  # Output: 2"
   ]
  },
  {
   "cell_type": "code",
   "execution_count": null,
   "metadata": {},
   "outputs": [],
   "source": [
    "# Convert generator to the list"
   ]
  },
  {
   "cell_type": "code",
   "execution_count": null,
   "metadata": {},
   "outputs": [],
   "source": [
    "# Generator for Fibonacci sequence\n",
    "def fibonacci(n):\n",
    "    a, b = 0, 1\n",
    "    for _ in range(n):\n",
    "        yield a\n",
    "        a, b = b, a + b\n",
    "\n",
    "# Get the first 10 Fibonacci numbers\n",
    "fib_gen = fibonacci(10)\n",
    "fib_list = list(fib_gen)\n",
    "print(fib_list)  # Output: [0, 1, 1, 2, 3, 5, 8, 13, 21, 34]"
   ]
  },
  {
   "cell_type": "markdown",
   "metadata": {},
   "source": [
    "#### Memory Usage Comparison"
   ]
  },
  {
   "cell_type": "code",
   "execution_count": null,
   "metadata": {},
   "outputs": [],
   "source": [
    "import sys\n",
    "\n",
    "# List comprehension\n",
    "squares_list = [i ** 2 for i in range(1000)]\n",
    "print(f\"List memory usage: {sys.getsizeof(squares_list)} bytes\")  # Output: List memory usage: size in bytes\n",
    "\n",
    "# Generator\n",
    "squares_generator = (i ** 2 for i in range(1000))\n",
    "print(f\"Generator memory usage: {sys.getsizeof(squares_generator)} bytes\")  # Output: Generator memory usage: size in bytes\n"
   ]
  },
  {
   "cell_type": "markdown",
   "metadata": {},
   "source": [
    "## Map, Filter, Reduce"
   ]
  },
  {
   "cell_type": "markdown",
   "metadata": {},
   "source": [
    "`lambda` arguments: expression\n",
    "\n",
    "They can have any number of arguments but only one expression.\n"
   ]
  },
  {
   "cell_type": "code",
   "execution_count": null,
   "metadata": {},
   "outputs": [],
   "source": [
    "# Traditional function\n",
    "def add(x, y):\n",
    "    return x + y\n",
    "\n",
    "# Lambda function\n",
    "add_lambda = lambda x, y: x + y\n",
    "\n",
    "print(add(2, 3))          # Output: 5\n",
    "print(add_lambda(2, 3))   # Output: 5\n"
   ]
  },
  {
   "cell_type": "markdown",
   "metadata": {},
   "source": [
    "### Map"
   ]
  },
  {
   "cell_type": "markdown",
   "metadata": {},
   "source": [
    "Syntax: `map(function, iterable)`\n",
    "\n",
    "The `map` function applies a given function to all items in an input list (or any iterable) and returns a map object (an iterator).\n"
   ]
  },
  {
   "cell_type": "code",
   "execution_count": null,
   "metadata": {},
   "outputs": [],
   "source": [
    "# Using map with a lambda function\n",
    "numbers = [1, 2, 3, 4, 5]\n",
    "squared = map(lambda x: x ** 2, numbers)\n",
    "print(list(squared))  # Output: [1, 4, 9, 16, 25]\n",
    "\n",
    "# Using map with a regular function\n",
    "def square(x):\n",
    "    return x ** 2\n",
    "\n",
    "squared = map(square, numbers)\n",
    "print(list(squared))  # Output: [1, 4, 9, 16, 25]"
   ]
  },
  {
   "cell_type": "markdown",
   "metadata": {},
   "source": [
    "### Filter"
   ]
  },
  {
   "cell_type": "markdown",
   "metadata": {},
   "source": [
    "Syntax: `filter(function, iterable)`\n",
    "\n",
    "The filter function constructs an iterator from elements of an iterable for which a function returns true."
   ]
  },
  {
   "cell_type": "code",
   "execution_count": null,
   "metadata": {},
   "outputs": [],
   "source": [
    "# Using filter with a lambda function\n",
    "numbers = [1, 2, 3, 4, 5, 6]\n",
    "evens = filter(lambda x: x % 2 == 0, numbers)\n",
    "print(list(evens))  # Output: [2, 4, 6]\n",
    "\n",
    "# Using filter with a regular function\n",
    "def is_even(x):\n",
    "    return x % 2 == 0\n",
    "\n",
    "evens = filter(is_even, numbers)\n",
    "print(list(evens))  # Output: [2, 4, 6]"
   ]
  },
  {
   "cell_type": "markdown",
   "metadata": {},
   "source": [
    "### Reduce"
   ]
  },
  {
   "cell_type": "markdown",
   "metadata": {},
   "source": [
    "Syntax:\n",
    "```python\n",
    "from functools import reduce\n",
    "reduce(function, iterable)\n",
    "```\n",
    "\n",
    "The `reduce` function applies a given function cumulatively to the items of an iterable, from left to right, so as to reduce the iterable to a single value. reduce is available in the functools module."
   ]
  },
  {
   "cell_type": "code",
   "execution_count": null,
   "metadata": {},
   "outputs": [],
   "source": [
    "from functools import reduce\n",
    "\n",
    "# Using reduce with a lambda function\n",
    "numbers = [1, 2, 3, 4, 5]\n",
    "product = reduce(lambda x, y: x * y, numbers)\n",
    "print(product)  # Output: 120\n",
    "\n",
    "# Using reduce with a regular function\n",
    "def multiply(x, y):\n",
    "    return x * y\n",
    "\n",
    "product = reduce(multiply, numbers)\n",
    "print(product)  # Output: 120"
   ]
  },
  {
   "cell_type": "markdown",
   "metadata": {},
   "source": [
    "### Combined Example"
   ]
  },
  {
   "cell_type": "code",
   "execution_count": null,
   "metadata": {},
   "outputs": [],
   "source": [
    "from functools import reduce\n",
    "\n",
    "numbers = [1, 2, 3, 4, 5, 6, 7, 8, 9, 10]\n",
    "\n",
    "# Step 1: Use filter to get even numbers\n",
    "evens = filter(lambda x: x % 2 == 0, numbers)\n",
    "print(list(evens))  # Output: [2, 4, 6, 8, 10]\n",
    "\n",
    "# Step 2: Use map to square the even numbers\n",
    "squared_evens = map(lambda x: x ** 2, evens)\n",
    "print(list(squared_evens))  # Output: [4, 16, 36, 64, 100]\n",
    "\n",
    "# Step 3: Use reduce to sum the squared even numbers\n",
    "sum_of_squares = reduce(lambda x, y: x + y, squared_evens)\n",
    "print(sum_of_squares)  # Output: 220"
   ]
  },
  {
   "cell_type": "markdown",
   "metadata": {},
   "source": [
    "**Lambda**  \n",
    "\n",
    "            - Small anonymous functions defined using lambda.\n",
    "\n",
    "            - Used for creating small, throwaway functions on the fly.\n",
    "\n",
    "**Map**     \n",
    "\n",
    "            - Applies a function to all items in an iterable and returns an iterator.\n",
    "\n",
    "            - Used to transform or process elements in an iterable.\n",
    "\n",
    "**Filter**  \n",
    "\n",
    "            - Constructs an iterator from elements of an iterable for which a function returns true.\n",
    "\n",
    "            - Used to filter out elements from an iterable based on a condition.\n",
    "\n",
    "**Reduce**  \n",
    "\n",
    "            - Applies a function cumulatively to the items of an iterable to reduce it to a single value.\n",
    "\n",
    "            - Used to perform some computation on a list and return a single result."
   ]
  },
  {
   "cell_type": "markdown",
   "metadata": {},
   "source": [
    "## Other Functions"
   ]
  },
  {
   "cell_type": "markdown",
   "metadata": {},
   "source": [
    "### itertools module"
   ]
  },
  {
   "cell_type": "markdown",
   "metadata": {},
   "source": [
    "chain method"
   ]
  },
  {
   "cell_type": "code",
   "execution_count": null,
   "metadata": {},
   "outputs": [],
   "source": [
    "import itertools\n",
    "\n",
    "a = [1, 2, 3]\n",
    "b = [4, 5, 6]\n",
    "combined = itertools.chain(a, b)\n",
    "print(list(combined))  # Output: [1, 2, 3, 4, 5, 6]"
   ]
  },
  {
   "cell_type": "markdown",
   "metadata": {},
   "source": [
    "product method"
   ]
  },
  {
   "cell_type": "code",
   "execution_count": null,
   "metadata": {},
   "outputs": [],
   "source": [
    "import itertools\n",
    "\n",
    "a = [1, 2]\n",
    "b = ['a', 'b']\n",
    "product = itertools.product(a, b)\n",
    "print(list(product))  # Output: [(1, 'a'), (1, 'b'), (2, 'a'), (2, 'b')]\n"
   ]
  },
  {
   "cell_type": "markdown",
   "metadata": {},
   "source": [
    "permutations method"
   ]
  },
  {
   "cell_type": "code",
   "execution_count": null,
   "metadata": {},
   "outputs": [],
   "source": [
    "import itertools\n",
    "\n",
    "items = [1, 2, 3]\n",
    "perms = itertools.permutations(items)\n",
    "print(list(perms))  # Output: [(1, 2, 3), (1, 3, 2), (2, 1, 3), (2, 3, 1), (3, 1, 2), (3, 2, 1)]"
   ]
  },
  {
   "cell_type": "markdown",
   "metadata": {},
   "source": [
    "combinations method"
   ]
  },
  {
   "cell_type": "code",
   "execution_count": null,
   "metadata": {},
   "outputs": [],
   "source": [
    "import itertools\n",
    "\n",
    "items = [1, 2, 3]\n",
    "combs = itertools.combinations(items, 2)\n",
    "print(list(combs))  # Output: [(1, 2), (1, 3), (2, 3)]"
   ]
  },
  {
   "cell_type": "markdown",
   "metadata": {},
   "source": [
    "### functools module"
   ]
  },
  {
   "cell_type": "markdown",
   "metadata": {},
   "source": [
    "partial method"
   ]
  },
  {
   "cell_type": "code",
   "execution_count": null,
   "metadata": {},
   "outputs": [],
   "source": [
    "from functools import partial\n",
    "\n",
    "def power(base, exponent):\n",
    "    return base ** exponent\n",
    "\n",
    "square = partial(power, exponent=2)\n",
    "cube = partial(power, exponent=3)\n",
    "\n",
    "print(square(4))  # Output: 16\n",
    "print(cube(3))    # Output: 27"
   ]
  },
  {
   "cell_type": "markdown",
   "metadata": {},
   "source": [
    "lru_cache decorator"
   ]
  },
  {
   "cell_type": "code",
   "execution_count": null,
   "metadata": {},
   "outputs": [],
   "source": [
    "from functools import lru_cache\n",
    "\n",
    "@lru_cache(maxsize=100)\n",
    "def factorial(n):\n",
    "    if n == 0:\n",
    "        return 1\n",
    "    return n * factorial(n - 1)\n",
    "\n",
    "print(factorial(5))  # Output: 120"
   ]
  },
  {
   "cell_type": "markdown",
   "metadata": {},
   "source": [
    "### collections module"
   ]
  },
  {
   "cell_type": "markdown",
   "metadata": {},
   "source": [
    "defaultdict method"
   ]
  },
  {
   "cell_type": "code",
   "execution_count": null,
   "metadata": {},
   "outputs": [],
   "source": [
    "from collections import defaultdict\n",
    "\n",
    "dd = defaultdict(int)\n",
    "dd['a'] += 1\n",
    "print(dd['a'])  # Output: 1\n",
    "print(dd['b'])  # Output: 0"
   ]
  },
  {
   "cell_type": "markdown",
   "metadata": {},
   "source": [
    "Counter method"
   ]
  },
  {
   "cell_type": "code",
   "execution_count": null,
   "metadata": {},
   "outputs": [],
   "source": [
    "from collections import Counter\n",
    "\n",
    "words = ['apple', 'banana', 'apple', 'orange', 'banana', 'apple']\n",
    "count = Counter(words)\n",
    "print(count)  # Output: Counter({'apple': 3, 'banana': 2, 'orange': 1})"
   ]
  },
  {
   "cell_type": "markdown",
   "metadata": {},
   "source": [
    "namedtuple method"
   ]
  },
  {
   "cell_type": "code",
   "execution_count": null,
   "metadata": {},
   "outputs": [],
   "source": [
    "from collections import namedtuple\n",
    "\n",
    "Point = namedtuple('Point', 'x y')\n",
    "p = Point(11, 22)\n",
    "print(p.x, p.y)  # Output: 11 22"
   ]
  },
  {
   "cell_type": "markdown",
   "metadata": {},
   "source": [
    "deque method"
   ]
  },
  {
   "cell_type": "code",
   "execution_count": null,
   "metadata": {},
   "outputs": [],
   "source": [
    "from collections import deque\n",
    "\n",
    "d = deque([1, 2, 3])\n",
    "d.appendleft(0)\n",
    "d.append(4)\n",
    "print(d)  # Output: deque([0, 1, 2, 3, 4])"
   ]
  }
 ],
 "metadata": {
  "kernelspec": {
   "display_name": ".venv",
   "language": "python",
   "name": "python3"
  },
  "language_info": {
   "codemirror_mode": {
    "name": "ipython",
    "version": 3
   },
   "file_extension": ".py",
   "mimetype": "text/x-python",
   "name": "python",
   "nbconvert_exporter": "python",
   "pygments_lexer": "ipython3",
   "version": "3.10.14"
  }
 },
 "nbformat": 4,
 "nbformat_minor": 2
}
