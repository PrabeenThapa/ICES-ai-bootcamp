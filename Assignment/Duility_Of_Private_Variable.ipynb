{
 "cells": [
  {
   "cell_type": "markdown",
   "metadata": {},
   "source": [
    "## It's not actually a <b>duality</b> of Private variables, but it seems like they have a dual nature.\n",
    "<h3>Let's Break It Down</h3>\n",
    "\n",
    "First, let's look at this code:"
   ]
  },
  {
   "cell_type": "code",
   "execution_count": 3,
   "metadata": {},
   "outputs": [
    {
     "ename": "AttributeError",
     "evalue": "'Person' object has no attribute '__name'",
     "output_type": "error",
     "traceback": [
      "\u001b[0;31m---------------------------------------------------------------------------\u001b[0m",
      "\u001b[0;31mAttributeError\u001b[0m                            Traceback (most recent call last)",
      "Cell \u001b[0;32mIn[3], line 9\u001b[0m\n\u001b[1;32m      5\u001b[0m         \u001b[38;5;28mself\u001b[39m\u001b[38;5;241m.\u001b[39mRoom \u001b[38;5;241m=\u001b[39m \u001b[38;5;124m\"\u001b[39m\u001b[38;5;124mRIC 203\u001b[39m\u001b[38;5;124m\"\u001b[39m\n\u001b[1;32m      7\u001b[0m ani \u001b[38;5;241m=\u001b[39m Person(\u001b[38;5;124m\"\u001b[39m\u001b[38;5;124mRocky\u001b[39m\u001b[38;5;124m\"\u001b[39m, \u001b[38;5;241m27\u001b[39m, \u001b[38;5;124m\"\u001b[39m\u001b[38;5;124mRIC 203\u001b[39m\u001b[38;5;124m\"\u001b[39m)\n\u001b[0;32m----> 9\u001b[0m \u001b[38;5;28mprint\u001b[39m(\u001b[43mani\u001b[49m\u001b[38;5;241;43m.\u001b[39;49m\u001b[43m__name\u001b[49m)\n",
      "\u001b[0;31mAttributeError\u001b[0m: 'Person' object has no attribute '__name'"
     ]
    }
   ],
   "source": [
    "class Person:\n",
    "    def __init__(self, name, id, room: str):\n",
    "        self.__name = name\n",
    "        self._id = id\n",
    "        self.Room = \"RIC 203\"\n",
    "\n",
    "ani = Person(\"Rocky\", 27, \"RIC 203\")\n",
    "\n",
    "print(ani.__name)"
   ]
  },
  {
   "cell_type": "markdown",
   "metadata": {},
   "source": [
    "This code throws an attribute error because we are trying to access private data directly.\n",
    "\n",
    "However, something interesting happens when we do something with that attribute:"
   ]
  },
  {
   "cell_type": "code",
   "execution_count": null,
   "metadata": {},
   "outputs": [
    {
     "name": "stdout",
     "output_type": "stream",
     "text": [
      "Prabeen\n"
     ]
    }
   ],
   "source": [
    "class Person:\n",
    "    def __init__(self, name, id, room: str):\n",
    "        self.__name = name\n",
    "        self._id = id\n",
    "        self.Room = \"RIC 203\"\n",
    "\n",
    "ani = Person(\"Rocky\", 27, \"RIC 203\")\n",
    "\n",
    "ani.__name = \"Prabeen\"\n",
    "\n",
    "print(ani.__name)"
   ]
  },
  {
   "cell_type": "markdown",
   "metadata": {},
   "source": [
    "What?, are we accessing that private variable or we can use that private variable directly just by assigning their value outside the class.\n",
    "\n",
    "No it's not exaclty what we are thinking rn \n",
    "\n",
    "Let's break it down "
   ]
  },
  {
   "cell_type": "code",
   "execution_count": null,
   "metadata": {},
   "outputs": [
    {
     "name": "stdout",
     "output_type": "stream",
     "text": [
      "Id of original private attribute:  139777862188528\n",
      "Id of newly created attribute:  139777873441968\n",
      "Rocky\n",
      "Prabeen\n"
     ]
    }
   ],
   "source": [
    "class Person:\n",
    "    def __init__(self, name, id, room: str):\n",
    "        self.__name = name\n",
    "        self._id = id\n",
    "        self.Room = \"RIC 203\"\n",
    "\n",
    "ani = Person(\"Rocky\", 27, \"RIC 203\")\n",
    "\n",
    "ani.__name = \"Prabeen\"\n",
    "\n",
    "print(\"Id of original private attribute: \", id(ani._Person__name))\n",
    "print(\"Id of newly created attribute: \", id(ani.__name))\n",
    "print(ani._Person__name)\n",
    "print(ani.__name)"
   ]
  },
  {
   "cell_type": "markdown",
   "metadata": {},
   "source": [
    "From this result you might already be cleared that attribute <b>ani.__name</b> and the Private attribute <b> __name</b> actually not same variable but they are completely different with own values and own unique id."
   ]
  },
  {
   "cell_type": "markdown",
   "metadata": {},
   "source": [
    "<h2>But, if you are still there</b>\n",
    "Let's check this out"
   ]
  },
  {
   "cell_type": "code",
   "execution_count": null,
   "metadata": {},
   "outputs": [
    {
     "name": "stdout",
     "output_type": "stream",
     "text": [
      "Id of original private attribute:  140067071935408\n",
      "Id of newly created attribute:  140067071935408\n"
     ]
    }
   ],
   "source": [
    "class Person:\n",
    "    def __init__(self, name, id, room :str):\n",
    "        self.__name = name\n",
    "        self._id = id\n",
    "        self.Room = \"RIC 203\"\n",
    "\n",
    "ani = Person(\"Rocky\", 27, \"RIC 203\")\n",
    "\n",
    "ani.__name = \"Rocky\"\n",
    "\n",
    "\n",
    "# Accessing the memory address of the private attribute __name using name mangling\n",
    "print(\"Id of original private attribute: \",id(ani._Person__name))\n",
    "\n",
    "\n",
    "# Accessing the memory address of the newly created attribute __name\n",
    "print(\"Id of newly created attribute: \",id(ani.__name))\n",
    "\n"
   ]
  },
  {
   "cell_type": "markdown",
   "metadata": {},
   "source": [
    "Address is same right? It's only due to the values stored in private attribute is same as newly created attribute."
   ]
  },
  {
   "cell_type": "markdown",
   "metadata": {},
   "source": [
    "<h1> Conclusion:</h1>\n",
    "<ol>\n",
    "<li>If you are accessing any private attribute directly(without using name mangling), it's not possible to access that variable.</li>\n",
    "<li>If you are creating new attribute with the same name as private attribute then you are creating completely new attribute with own values and own Id.\n",
    "</li>\n",
    "<li>Still if the private attribute and newly created attribute have same name and same values their Id might be same</li.>\n",
    "<ol>"
   ]
  }
 ],
 "metadata": {
  "kernelspec": {
   "display_name": "ML",
   "language": "python",
   "name": "python3"
  },
  "language_info": {
   "codemirror_mode": {
    "name": "ipython",
    "version": 3
   },
   "file_extension": ".py",
   "mimetype": "text/x-python",
   "name": "python",
   "nbconvert_exporter": "python",
   "pygments_lexer": "ipython3",
   "version": "3.11.9"
  }
 },
 "nbformat": 4,
 "nbformat_minor": 2
}
