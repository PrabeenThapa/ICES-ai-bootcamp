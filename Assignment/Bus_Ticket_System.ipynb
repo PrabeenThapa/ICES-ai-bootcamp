{
 "cells": [
  {
   "cell_type": "code",
   "execution_count": 76,
   "metadata": {},
   "outputs": [],
   "source": [
    "class Passenger:\n",
    "    def __init__(self, name, phone, departure, destination) -> None:\n",
    "        self.name = name\n",
    "        self.phone = phone\n",
    "        self.departure = departure\n",
    "        self.destination = destination\n",
    "\n",
    "    def __str__(self) -> str:\n",
    "        return f\"Name: {self.name}\\nPhone: {self.phone}\\nDeparture: {self.departure}\\nDestination: {self.destination}\"\n",
    "\n",
    "    def passengerInfo(self):\n",
    "        self.info = {\n",
    "            \"name\":self.name,\n",
    "            \"phone\":self.phone,\n",
    "            \"departure\":self.departure,\n",
    "            \"destination\":self.destination\n",
    "        }\n",
    "        return self.info"
   ]
  },
  {
   "cell_type": "code",
   "execution_count": 77,
   "metadata": {},
   "outputs": [],
   "source": [
    "class Driver:\n",
    "    def __init__(self, name, phone, address) -> None:\n",
    "        self.name = name\n",
    "        self.phone = phone\n",
    "        self.address = address\n",
    "\n",
    "    \n",
    "    def __str__(self) -> str:\n",
    "        return f\"Name: {self.name}\\nPhone: {self.phone}\\nAddress: {self.address}\"\n",
    "    \n",
    "    def driverInfo(self):\n",
    "        self.info = {\n",
    "            \"name\":self.name,\n",
    "            \"phone\":self.phone,\n",
    "            \"address\":self.address\n",
    "        }\n",
    "        return self.info\n",
    "    "
   ]
  },
  {
   "cell_type": "code",
   "execution_count": 78,
   "metadata": {},
   "outputs": [],
   "source": [
    "class Bus:\n",
    "    def __init__(self, bus_no, departure, destination, dri: Driver) -> None:\n",
    "        self.bus_no = bus_no\n",
    "        self.departure = departure\n",
    "        self.destination = destination\n",
    "        self.driver = dri.driverInfo()\n",
    "        self.passlist= []\n",
    "\n",
    "    def __str__(self) -> str:\n",
    "        return f\"Bus no.: {self.bus_no}\\nDriver Info: {self.driver}\\nDeparture: {self.departure}\\nDestination: {self.destination}\"\n",
    "\n",
    "    def busInfo(self):\n",
    "        self.info = {\n",
    "            \"bus_no\": self.bus_no,\n",
    "            \"departure\": self.departure,\n",
    "            \"destination\":self.destination\n",
    "        }\n",
    "        return self.info\n",
    "\n",
    "    def addPassenger(self, passenger: Passenger):\n",
    "        passInfo=passenger.passengerInfo()\n",
    "        self.passlist.append(passInfo)\n",
    "\n",
    "    def totalPassenger(self):\n",
    "        print(f\"Total no. of Passenger in Bus {self.bus_no}: {len(self.passlist)}.\")\n",
    "    \n",
    "    def allDetails(self):\n",
    "        return f\"Bus Details:\\n {self.busInfo()}\\n\\nDriver Details:\\n{self.driver}\\n\\nPassenger Details:\\n{self.passlist} \"\n",
    "        "
   ]
  },
  {
   "cell_type": "code",
   "execution_count": 79,
   "metadata": {},
   "outputs": [
    {
     "name": "stdout",
     "output_type": "stream",
     "text": [
      "Bus Details:\n",
      " {'bus_no': 'Ra 1 ka 108', 'departure': 'Pokhara', 'destination': 'Butwal'}\n",
      "\n",
      "Driver Details:\n",
      "{'name': 'Kamal', 'phone': 980000000, 'address': 'Nawalparasi'}\n",
      "\n",
      "Passenger Details:\n",
      "[{'name': 'Ram', 'phone': 981234567, 'departure': 'Pokhara', 'destination': 'Butwal'}, {'name': 'Hari', 'phone': 981234567, 'departure': 'Pokhara', 'destination': 'Butwal'}] \n"
     ]
    }
   ],
   "source": [
    "p1 = Passenger(\"Ram\", 981234567, \"Pokhara\", \"Butwal\")\n",
    "p2 = Passenger(\"Hari\", 981234567, \"Pokhara\", \"Butwal\")\n",
    "\n",
    "d1 = Driver(\"Kamal\", 980000000, \"Nawalparasi\")\n",
    "\n",
    "b1 = Bus(\"Ra 1 ka 108\", \"Pokhara\", \"Butwal\", d1)\n",
    "b1.addPassenger(p1)\n",
    "b1.addPassenger(p2)\n",
    "\n",
    "print(b1.allDetails())"
   ]
  }
 ],
 "metadata": {
  "kernelspec": {
   "display_name": "ML",
   "language": "python",
   "name": "python3"
  },
  "language_info": {
   "codemirror_mode": {
    "name": "ipython",
    "version": 3
   },
   "file_extension": ".py",
   "mimetype": "text/x-python",
   "name": "python",
   "nbconvert_exporter": "python",
   "pygments_lexer": "ipython3",
   "version": "3.11.9"
  }
 },
 "nbformat": 4,
 "nbformat_minor": 2
}
