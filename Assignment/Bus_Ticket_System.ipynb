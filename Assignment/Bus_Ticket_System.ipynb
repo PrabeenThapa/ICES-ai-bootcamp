{
 "cells": [
  {
   "cell_type": "markdown",
   "metadata": {},
   "source": [
    "## <b>Bus Ticket System</b>\n"
   ]
  },
  {
   "cell_type": "markdown",
   "metadata": {},
   "source": [
    "#### This program is inspired by the tragic incident where two buses were swept into the Trishuli River by a landslide in the Narayangadh-Muglin road section. Our deepest sympathies go out to the victims and their families."
   ]
  },
  {
   "cell_type": "markdown",
   "metadata": {},
   "source": [
    "#### <b>Passenger Class</b>"
   ]
  },
  {
   "cell_type": "code",
   "execution_count": 1,
   "metadata": {},
   "outputs": [],
   "source": [
    "class Passenger:\n",
    "    '''\n",
    "    This class represents a Passenger\n",
    "    Attributes:\n",
    "    - name: Name of the Passenger\n",
    "    - phone: Phone number of the Passenger\n",
    "    - departure: Location from where passenger will enter into Bus\n",
    "    - destination: Destination location of passenger\n",
    "    '''\n",
    "    def __init__(self, name: str, phone: str, departure: str, destination: str) -> None:\n",
    "        self.name = name\n",
    "        self.phone = phone\n",
    "        self.departure = departure\n",
    "        self.destination = destination\n",
    "\n",
    "    def __str__(self) -> str:\n",
    "        return f\"Name: {self.name}\\nPhone: {self.phone}\\nDeparture: {self.departure}\\nDestination: {self.destination}\"\n",
    "\n",
    "    def passengerInfo(self):\n",
    "        '''\n",
    "        This function will return the details of the passenger in the form of dictionary\n",
    "        '''\n",
    "        self.info = {\n",
    "            \"name\":self.name,\n",
    "            \"phone\":self.phone,\n",
    "            \"departure\":self.departure,\n",
    "            \"destination\":self.destination\n",
    "        }\n",
    "        return self.info"
   ]
  },
  {
   "cell_type": "markdown",
   "metadata": {},
   "source": [
    "#### <b>Driver Class</b>"
   ]
  },
  {
   "cell_type": "code",
   "execution_count": 2,
   "metadata": {},
   "outputs": [],
   "source": [
    "class Driver:\n",
    "    '''\n",
    "    This class represents a Driver\n",
    "    Attributes:\n",
    "    - name: Name of a Driver\n",
    "    - phone: Phone number of a Driver\n",
    "    - address: Address of a Driver where he live\n",
    "    '''\n",
    "    def __init__(self, name, phone, address) -> None:\n",
    "        self.name = name\n",
    "        self.phone = phone\n",
    "        self.address = address\n",
    "\n",
    "    \n",
    "    def __str__(self) -> str:\n",
    "        return f\"Name: {self.name}\\nPhone: {self.phone}\\nAddress: {self.address}\"\n",
    "    \n",
    "    def driverInfo(self):\n",
    "        '''\n",
    "        This function will return the details of the passenger in the form of dictionary\n",
    "        '''\n",
    "        self.info = {\n",
    "            \"name\":self.name,\n",
    "            \"phone\":self.phone,\n",
    "            \"address\":self.address\n",
    "        }\n",
    "        return self.info\n",
    "    "
   ]
  },
  {
   "cell_type": "markdown",
   "metadata": {},
   "source": [
    "#### <b>Bus Class</b>"
   ]
  },
  {
   "cell_type": "code",
   "execution_count": 3,
   "metadata": {},
   "outputs": [],
   "source": [
    "class Bus:\n",
    "    '''\n",
    "    This class represents a Bus\n",
    "    Attributes:\n",
    "    - bus_no: Bus number\n",
    "    - departure: Departure location\n",
    "    - destination: Destination location\n",
    "    - dri: Driver object representing the bus driver\n",
    "    '''\n",
    "    def __init__(self, bus_no, departure, destination, dri: Driver) -> None:\n",
    "        self.bus_no = bus_no\n",
    "        self.departure = departure\n",
    "        self.destination = destination\n",
    "        self.driver = dri.driverInfo()\n",
    "        self.passlist= []\n",
    "\n",
    "    def __str__(self) -> str:\n",
    "        return f\"Bus no.: {self.bus_no}\\nDriver Info: {self.driver}\\nDeparture: {self.departure}\\nDestination: {self.destination}\"\n",
    "\n",
    "    def busInfo(self):\n",
    "        '''\n",
    "        Returns information about the bus as a dictionary.\n",
    "        '''\n",
    "        self.info = {\n",
    "            \"bus_no\": self.bus_no,\n",
    "            \"departure\": self.departure,\n",
    "            \"destination\":self.destination\n",
    "        }\n",
    "        return self.info\n",
    "\n",
    "    def addPassenger(self, passenger: Passenger):\n",
    "        '''\n",
    "        Adds a passenger to the bus.\n",
    "        '''\n",
    "        passInfo=passenger.passengerInfo()\n",
    "        self.passlist.append(passInfo)\n",
    "\n",
    "    def totalPassenger(self):\n",
    "        '''\n",
    "        Returns the total number of passengers on the bus.\n",
    "        '''\n",
    "        return f\"Total no. of Passenger in Bus {self.bus_no}is {len(self.passlist)}.\"\n",
    "    \n",
    "    def allDetails(self):\n",
    "        '''\n",
    "        Returns  all details about the bus, its driver and passengers.\n",
    "        '''\n",
    "        return f\"Bus Details:\\n {self.busInfo()}\\n\\nDriver Details:\\n{self.driver}\\n\\nPassenger Details:\\n{self.passlist} \"\n",
    "        "
   ]
  },
  {
   "cell_type": "code",
   "execution_count": 4,
   "metadata": {},
   "outputs": [],
   "source": [
    "'''\n",
    "Initialization of passenger \n",
    "'''\n",
    "p1 = Passenger(\"Ram\", 981234567, \"Kathmandu\", \"Rautahat\")\n",
    "p2 = Passenger(\"Hari\", 981234567, \"Kathmandu\", \"Ranigunj\")\n",
    "p3 = Passenger(\"Shyam\", 9832157839, \"Kathmandu\", \"Rautahat\")\n",
    "\n",
    "p4 = Passenger(\"Harikala\", 9812121212, \"Birgunj\", \"Kathmandu\")\n",
    "p5 = Passenger(\"Rani\", 9712121212, \"Birgunj\", \"Chitwan\")"
   ]
  },
  {
   "cell_type": "code",
   "execution_count": 5,
   "metadata": {},
   "outputs": [],
   "source": [
    "'''\n",
    "Initialization of Driver\n",
    "'''\n",
    "d1 = Driver(\"Naranam\", 9812986186, \"Nawalparasi\")\n",
    "d2 = Driver(\"Raj Singh\", 9712312312, \"Birgunj\")"
   ]
  },
  {
   "cell_type": "code",
   "execution_count": 6,
   "metadata": {},
   "outputs": [],
   "source": [
    "'''\n",
    "Initialization of Bus1\n",
    "'''\n",
    "b1 = Bus(\"Ra 1 tha 108\", \"Kathmandu\", \"Rautahat\", d1)\n",
    "b1.addPassenger(p1)\n",
    "b1.addPassenger(p2)\n",
    "b1.addPassenger(p3)"
   ]
  },
  {
   "cell_type": "code",
   "execution_count": 7,
   "metadata": {},
   "outputs": [],
   "source": [
    "'''\n",
    "Initialization of Bus2\n",
    "'''\n",
    "b2 = Bus(\"Na 1 tha 108\", \"Birgunj\", \"Kathmandu\", d2)\n",
    "b2.addPassenger(p4)\n",
    "b2.addPassenger(p5)\n"
   ]
  },
  {
   "cell_type": "code",
   "execution_count": 8,
   "metadata": {},
   "outputs": [
    {
     "data": {
      "text/plain": [
       "'Total no. of Passenger in Bus Ra 1 tha 108is 3.'"
      ]
     },
     "execution_count": 8,
     "metadata": {},
     "output_type": "execute_result"
    }
   ],
   "source": [
    "b1.totalPassenger()"
   ]
  },
  {
   "cell_type": "code",
   "execution_count": 9,
   "metadata": {},
   "outputs": [
    {
     "name": "stdout",
     "output_type": "stream",
     "text": [
      "Bus Details:\n",
      " {'bus_no': 'Ra 1 tha 108', 'departure': 'Kathmandu', 'destination': 'Rautahat'}\n",
      "\n",
      "Driver Details:\n",
      "{'name': 'Naranam', 'phone': 9812986186, 'address': 'Nawalparasi'}\n",
      "\n",
      "Passenger Details:\n",
      "[{'name': 'Ram', 'phone': 981234567, 'departure': 'Kathmandu', 'destination': 'Rautahat'}, {'name': 'Hari', 'phone': 981234567, 'departure': 'Kathmandu', 'destination': 'Ranigunj'}, {'name': 'Shyam', 'phone': 9832157839, 'departure': 'Kathmandu', 'destination': 'Rautahat'}] \n"
     ]
    }
   ],
   "source": [
    "print(b1.allDetails())"
   ]
  },
  {
   "cell_type": "code",
   "execution_count": 10,
   "metadata": {},
   "outputs": [
    {
     "data": {
      "text/plain": [
       "'Total no. of Passenger in Bus Na 1 tha 108is 2.'"
      ]
     },
     "execution_count": 10,
     "metadata": {},
     "output_type": "execute_result"
    }
   ],
   "source": [
    "b2.totalPassenger()"
   ]
  },
  {
   "cell_type": "code",
   "execution_count": 11,
   "metadata": {},
   "outputs": [
    {
     "name": "stdout",
     "output_type": "stream",
     "text": [
      "Bus Details:\n",
      " {'bus_no': 'Na 1 tha 108', 'departure': 'Birgunj', 'destination': 'Kathmandu'}\n",
      "\n",
      "Driver Details:\n",
      "{'name': 'Raj Singh', 'phone': 9712312312, 'address': 'Birgunj'}\n",
      "\n",
      "Passenger Details:\n",
      "[{'name': 'Harikala', 'phone': 9812121212, 'departure': 'Birgunj', 'destination': 'Kathmandu'}, {'name': 'Rani', 'phone': 9712121212, 'departure': 'Birgunj', 'destination': 'Chitwan'}] \n"
     ]
    }
   ],
   "source": [
    "print(b2.allDetails())"
   ]
  }
 ],
 "metadata": {
  "kernelspec": {
   "display_name": "ML",
   "language": "python",
   "name": "python3"
  },
  "language_info": {
   "codemirror_mode": {
    "name": "ipython",
    "version": 3
   },
   "file_extension": ".py",
   "mimetype": "text/x-python",
   "name": "python",
   "nbconvert_exporter": "python",
   "pygments_lexer": "ipython3",
   "version": "3.11.9"
  }
 },
 "nbformat": 4,
 "nbformat_minor": 2
}
