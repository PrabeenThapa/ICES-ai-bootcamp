{
 "cells": [
  {
   "cell_type": "markdown",
   "id": "3e34d5fa",
   "metadata": {},
   "source": [
    "# NumPy"
   ]
  },
  {
   "cell_type": "markdown",
   "id": "d2dc5121",
   "metadata": {},
   "source": [
    "### NumPy Library is the core library for scientific computing in Python. It provides a high-performance multidimensional array object, and tools for working with these arrays"
   ]
  },
  {
   "cell_type": "markdown",
   "id": "93ed5109",
   "metadata": {},
   "source": [
    "#### Importing numpy"
   ]
  },
  {
   "cell_type": "code",
   "execution_count": 1,
   "id": "f952a6d2",
   "metadata": {},
   "outputs": [],
   "source": [
    "import numpy as np\n",
    "#if not installed, install it using 'pip install numpy' in your terminal and then import it"
   ]
  },
  {
   "cell_type": "markdown",
   "id": "5ddc638c",
   "metadata": {},
   "source": [
    "#### In Numpy, number of dimensions of the array is called rank of the array."
   ]
  },
  {
   "cell_type": "markdown",
   "id": "14bcfe4f",
   "metadata": {},
   "source": [
    "#### Creating arrays"
   ]
  },
  {
   "cell_type": "code",
   "execution_count": 2,
   "id": "909ddf68",
   "metadata": {},
   "outputs": [
    {
     "data": {
      "text/plain": [
       "array([1, 2, 3])"
      ]
     },
     "execution_count": 2,
     "metadata": {},
     "output_type": "execute_result"
    }
   ],
   "source": [
    "a=np.array([1,2,3]) #rank 1 array\n",
    "a"
   ]
  },
  {
   "cell_type": "code",
   "execution_count": 3,
   "id": "bbe9dd76",
   "metadata": {},
   "outputs": [
    {
     "data": {
      "text/plain": [
       "numpy.ndarray"
      ]
     },
     "execution_count": 3,
     "metadata": {},
     "output_type": "execute_result"
    }
   ],
   "source": [
    "type(a)"
   ]
  },
  {
   "cell_type": "code",
   "execution_count": 4,
   "id": "f30990e8",
   "metadata": {},
   "outputs": [
    {
     "name": "stdout",
     "output_type": "stream",
     "text": [
      "The dimension of array is:  1\n"
     ]
    }
   ],
   "source": [
    "# 'ndim' for number of dimensions of an array\n",
    "print('The dimension of array is: ',a.ndim)"
   ]
  },
  {
   "cell_type": "code",
   "execution_count": 4,
   "id": "e49b9f85",
   "metadata": {},
   "outputs": [
    {
     "data": {
      "text/plain": [
       "array([[1, 2, 3],\n",
       "       [4, 5, 6],\n",
       "       [7, 8, 9]])"
      ]
     },
     "execution_count": 4,
     "metadata": {},
     "output_type": "execute_result"
    }
   ],
   "source": [
    "# rank 2 array\n",
    "b=np.array([[1,2,3],\n",
    "           [4,5,6],\n",
    "           [7,8,9]])\n",
    "b"
   ]
  },
  {
   "cell_type": "code",
   "execution_count": 5,
   "id": "f69550c2",
   "metadata": {},
   "outputs": [
    {
     "data": {
      "text/plain": [
       "numpy.ndarray"
      ]
     },
     "execution_count": 5,
     "metadata": {},
     "output_type": "execute_result"
    }
   ],
   "source": [
    "type(b)"
   ]
  },
  {
   "cell_type": "code",
   "execution_count": 6,
   "id": "97006f65",
   "metadata": {},
   "outputs": [
    {
     "name": "stdout",
     "output_type": "stream",
     "text": [
      "The dimension of array is:  2\n"
     ]
    }
   ],
   "source": [
    "print('The dimension of array is: ',b.ndim)"
   ]
  },
  {
   "cell_type": "code",
   "execution_count": 7,
   "id": "03665025",
   "metadata": {},
   "outputs": [
    {
     "data": {
      "text/plain": [
       "array([[[ 10.,  20.],\n",
       "        [ 30.,  40.]],\n",
       "\n",
       "       [[ 40.,  50.],\n",
       "        [ 60.,  70.]],\n",
       "\n",
       "       [[ 80.,  90.],\n",
       "        [100., 110.]]])"
      ]
     },
     "execution_count": 7,
     "metadata": {},
     "output_type": "execute_result"
    }
   ],
   "source": [
    "# rank 3 array\n",
    "a = np.array([[[10.,20],[30,40]],\n",
    "              [[40,50],[60,70]],\n",
    "              [[80,90],[100,110]]])\n",
    "a"
   ]
  },
  {
   "cell_type": "code",
   "execution_count": 8,
   "id": "f43c704c",
   "metadata": {},
   "outputs": [
    {
     "data": {
      "text/plain": [
       "numpy.ndarray"
      ]
     },
     "execution_count": 8,
     "metadata": {},
     "output_type": "execute_result"
    }
   ],
   "source": [
    "type(a)"
   ]
  },
  {
   "cell_type": "code",
   "execution_count": 9,
   "id": "cfc867c8",
   "metadata": {},
   "outputs": [
    {
     "name": "stdout",
     "output_type": "stream",
     "text": [
      "The dimension of array is:  3\n"
     ]
    }
   ],
   "source": [
    "print('The dimension of array is: ',a.ndim)"
   ]
  },
  {
   "cell_type": "markdown",
   "id": "24c468f3",
   "metadata": {},
   "source": [
    "#### Boolean Array"
   ]
  },
  {
   "cell_type": "code",
   "execution_count": 10,
   "id": "19d94600",
   "metadata": {},
   "outputs": [
    {
     "data": {
      "text/plain": [
       "array([ True, False, False,  True])"
      ]
     },
     "execution_count": 10,
     "metadata": {},
     "output_type": "execute_result"
    }
   ],
   "source": [
    "bool_array=np.array([True,False,False,True])\n",
    "bool_array"
   ]
  },
  {
   "cell_type": "code",
   "execution_count": 11,
   "id": "2ff55994",
   "metadata": {},
   "outputs": [
    {
     "data": {
      "text/plain": [
       "dtype('bool')"
      ]
     },
     "execution_count": 11,
     "metadata": {},
     "output_type": "execute_result"
    }
   ],
   "source": [
    "bool_array.dtype"
   ]
  },
  {
   "cell_type": "markdown",
   "id": "5f213c27",
   "metadata": {},
   "source": [
    "#### Shape and size of an array"
   ]
  },
  {
   "cell_type": "code",
   "execution_count": 12,
   "id": "dfd0e724",
   "metadata": {},
   "outputs": [
    {
     "name": "stdout",
     "output_type": "stream",
     "text": [
      "Shape of array:  (2, 3)\n",
      "Size of array:  6\n"
     ]
    }
   ],
   "source": [
    "a=np.array([[1,2,3],\n",
    "           [4,5,6]])\n",
    "print(\"Shape of array: \",a.shape)\n",
    "\n",
    "\n",
    "b=np.array([[1,2,3],\n",
    "           [4,5,6]])\n",
    "print(\"Size of array: \",b.size)"
   ]
  },
  {
   "cell_type": "markdown",
   "id": "4e8c8d40",
   "metadata": {},
   "source": [
    "#### Conversion of NumPy Array"
   ]
  },
  {
   "cell_type": "code",
   "execution_count": 46,
   "id": "a9582b8b",
   "metadata": {},
   "outputs": [
    {
     "name": "stdout",
     "output_type": "stream",
     "text": [
      "[ 1  3  5  7  9 11]\n",
      "<class 'numpy.ndarray'>\n",
      "(6,)\n"
     ]
    }
   ],
   "source": [
    "#np.arange(start,end,step size) generates numpy array such that the array include 'start' but 'stop' is exclusive. Step size is the difference between consecutive numbers in the array\n",
    "\n",
    "a = np.arange(1, 12, 2)\n",
    "print(a)\n",
    "print(type(a))\n",
    "print(a.shape)"
   ]
  },
  {
   "cell_type": "markdown",
   "id": "5c7fe350",
   "metadata": {},
   "source": [
    "#### Indexing in NumPy"
   ]
  },
  {
   "cell_type": "code",
   "execution_count": 14,
   "id": "cd8da8dd",
   "metadata": {},
   "outputs": [
    {
     "data": {
      "text/plain": [
       "np.int64(6)"
      ]
     },
     "execution_count": 14,
     "metadata": {},
     "output_type": "execute_result"
    }
   ],
   "source": [
    "a=np.array([[1,2,3],\n",
    "           [4,5,6]])\n",
    "a[(1,2)] #first value is row and second is column. this way we can get a particular element"
   ]
  },
  {
   "cell_type": "code",
   "execution_count": 15,
   "id": "08008b6f",
   "metadata": {},
   "outputs": [
    {
     "data": {
      "text/plain": [
       "np.int64(50)"
      ]
     },
     "execution_count": 15,
     "metadata": {},
     "output_type": "execute_result"
    }
   ],
   "source": [
    "#in case of rank 3 numpy array\n",
    "b= np.array([[[10,20],[30,40]],\n",
    "             [[40,50],[60,70]],\n",
    "             [[80,90],[100,110]]])\n",
    "b[(1,0,1)]"
   ]
  },
  {
   "cell_type": "markdown",
   "id": "d340369e",
   "metadata": {},
   "source": [
    "#### Slicing in NumPy"
   ]
  },
  {
   "cell_type": "code",
   "execution_count": 16,
   "id": "e397071b",
   "metadata": {},
   "outputs": [],
   "source": [
    "#Slicing in NumPy arrays is similar to slicing in Python lists, but with additional capabilities for multi-dimensional arrays.\n",
    "#for 1d array\n",
    "arr=np.array([4,5,6,7,8])"
   ]
  },
  {
   "cell_type": "code",
   "execution_count": 17,
   "id": "df690065",
   "metadata": {},
   "outputs": [
    {
     "data": {
      "text/plain": [
       "array([6, 7, 8])"
      ]
     },
     "execution_count": 17,
     "metadata": {},
     "output_type": "execute_result"
    }
   ],
   "source": [
    "arr[2:5] #array_name[inclusive:exclusive]"
   ]
  },
  {
   "cell_type": "code",
   "execution_count": 19,
   "id": "cc5cd6e1",
   "metadata": {},
   "outputs": [
    {
     "data": {
      "text/plain": [
       "array([5, 7])"
      ]
     },
     "execution_count": 19,
     "metadata": {},
     "output_type": "execute_result"
    }
   ],
   "source": [
    "arr[1:5:2] #slicing with steps"
   ]
  },
  {
   "cell_type": "code",
   "execution_count": 19,
   "id": "1f2d2423",
   "metadata": {},
   "outputs": [],
   "source": [
    "#for 2d array\n",
    "arr2d = np.array([[0, 1, 2], \n",
    "                  [3, 4, 5], \n",
    "                  [6, 7, 8], \n",
    "                  [9, 10, 11]])"
   ]
  },
  {
   "cell_type": "code",
   "execution_count": 22,
   "id": "3b0391f1",
   "metadata": {},
   "outputs": [
    {
     "name": "stdout",
     "output_type": "stream",
     "text": [
      "[[3 4 5]\n",
      " [6 7 8]]\n"
     ]
    }
   ],
   "source": [
    "print(arr2d[1:3,:])"
   ]
  },
  {
   "cell_type": "code",
   "execution_count": 30,
   "id": "5880f7d7",
   "metadata": {},
   "outputs": [
    {
     "data": {
      "text/plain": [
       "array([3, 4, 5])"
      ]
     },
     "execution_count": 30,
     "metadata": {},
     "output_type": "execute_result"
    }
   ],
   "source": [
    "#to slice specific rows and columns\n",
    "arr2d[1, :]"
   ]
  },
  {
   "cell_type": "code",
   "execution_count": 24,
   "id": "8213cc6d",
   "metadata": {},
   "outputs": [
    {
     "data": {
      "text/plain": [
       "array([ 1,  4,  7, 10])"
      ]
     },
     "execution_count": 24,
     "metadata": {},
     "output_type": "execute_result"
    }
   ],
   "source": [
    "arr2d[:, 1]"
   ]
  },
  {
   "cell_type": "markdown",
   "id": "71f894f3",
   "metadata": {},
   "source": [
    "#### Data types in numpy"
   ]
  },
  {
   "cell_type": "code",
   "execution_count": 31,
   "id": "875a8cdb",
   "metadata": {},
   "outputs": [
    {
     "name": "stdout",
     "output_type": "stream",
     "text": [
      "The datatype is: int64\n"
     ]
    }
   ],
   "source": [
    "a=np.array([1,2])\n",
    "print('The datatype is:',a.dtype)"
   ]
  },
  {
   "cell_type": "code",
   "execution_count": 32,
   "id": "fa749e7e",
   "metadata": {},
   "outputs": [
    {
     "name": "stdout",
     "output_type": "stream",
     "text": [
      "The datatype is: float64\n"
     ]
    }
   ],
   "source": [
    "# in case of float values\n",
    "b=np.array([1.0,2.0])\n",
    "print('The datatype is:',b.dtype)"
   ]
  },
  {
   "cell_type": "code",
   "execution_count": 26,
   "id": "f560ba67",
   "metadata": {},
   "outputs": [],
   "source": [
    "# int64 represents 64-bit signed integer\n",
    "# float64 represents double precision float"
   ]
  },
  {
   "cell_type": "code",
   "execution_count": 27,
   "id": "64af4ffa",
   "metadata": {},
   "outputs": [
    {
     "data": {
      "text/plain": [
       "dtype('float64')"
      ]
     },
     "execution_count": 27,
     "metadata": {},
     "output_type": "execute_result"
    }
   ],
   "source": [
    "c=np.array([1,2],dtype=np.float64)\n",
    "c.dtype"
   ]
  },
  {
   "cell_type": "code",
   "execution_count": 28,
   "id": "eb1c96ef",
   "metadata": {},
   "outputs": [
    {
     "data": {
      "text/plain": [
       "array([1., 2.])"
      ]
     },
     "execution_count": 28,
     "metadata": {},
     "output_type": "execute_result"
    }
   ],
   "source": [
    "c"
   ]
  },
  {
   "cell_type": "markdown",
   "id": "3c4913e5",
   "metadata": {},
   "source": [
    "#### Arange"
   ]
  },
  {
   "cell_type": "code",
   "execution_count": 47,
   "id": "faa7e072",
   "metadata": {},
   "outputs": [
    {
     "data": {
      "text/plain": [
       "array([0, 1, 2, 3, 4, 5, 6, 7, 8, 9])"
      ]
     },
     "execution_count": 47,
     "metadata": {},
     "output_type": "execute_result"
    }
   ],
   "source": [
    "# similar to 'range' function, but it returns a NumPy array instead of a list.\n",
    "a=np.arange(10)\n",
    "a"
   ]
  },
  {
   "cell_type": "code",
   "execution_count": 30,
   "id": "eb20bbe7",
   "metadata": {},
   "outputs": [
    {
     "data": {
      "text/plain": [
       "array([ 0,  2,  4,  6,  8, 10])"
      ]
     },
     "execution_count": 30,
     "metadata": {},
     "output_type": "execute_result"
    }
   ],
   "source": [
    "#specifying start,stop and step\n",
    "b=np.arange(0,12,2)\n",
    "b\n",
    "#here start value is inclusive and stop value is exclusive."
   ]
  },
  {
   "cell_type": "markdown",
   "id": "2690426c",
   "metadata": {},
   "source": [
    "#### Sorting Numpy Array"
   ]
  },
  {
   "cell_type": "code",
   "execution_count": 31,
   "id": "33a68af6",
   "metadata": {},
   "outputs": [
    {
     "data": {
      "text/plain": [
       "array([2, 3, 5, 6, 7, 8])"
      ]
     },
     "execution_count": 31,
     "metadata": {},
     "output_type": "execute_result"
    }
   ],
   "source": [
    "arr=np.array([5,6,2,3,8,7])\n",
    "np.sort(arr)"
   ]
  },
  {
   "cell_type": "code",
   "execution_count": 32,
   "id": "43ce69fe",
   "metadata": {},
   "outputs": [
    {
     "data": {
      "text/plain": [
       "array([8, 7, 6, 5, 3, 2])"
      ]
     },
     "execution_count": 32,
     "metadata": {},
     "output_type": "execute_result"
    }
   ],
   "source": [
    "#sorting in descending order\n",
    "np.sort(arr)[::-1]\n",
    "#[::-1] is a slice notation used to reverse the sorted array obtained from the above code\n",
    "#change the value after :: to provide the steps"
   ]
  },
  {
   "cell_type": "markdown",
   "id": "b31999bc",
   "metadata": {},
   "source": [
    "#### Deleting elements from Numpy Array"
   ]
  },
  {
   "cell_type": "code",
   "execution_count": 34,
   "id": "66816a9a",
   "metadata": {},
   "outputs": [
    {
     "data": {
      "text/plain": [
       "array([1, 2, 3, 4, 5])"
      ]
     },
     "execution_count": 34,
     "metadata": {},
     "output_type": "execute_result"
    }
   ],
   "source": [
    "new_arr=np.array([1,2,3,4,5])\n",
    "new_arr"
   ]
  },
  {
   "cell_type": "code",
   "execution_count": 37,
   "id": "d0ffccc7",
   "metadata": {},
   "outputs": [
    {
     "data": {
      "text/plain": [
       "array([1, 2, 3, 5])"
      ]
     },
     "execution_count": 37,
     "metadata": {},
     "output_type": "execute_result"
    }
   ],
   "source": [
    "np.delete(new_arr,3) # 3 is an index"
   ]
  },
  {
   "cell_type": "code",
   "execution_count": 38,
   "id": "cdf26940",
   "metadata": {},
   "outputs": [
    {
     "data": {
      "text/plain": [
       "array([[ 1,  3,  4,  5],\n",
       "       [10, 30, 40, 50],\n",
       "       [11, 33, 44, 55]])"
      ]
     },
     "execution_count": 38,
     "metadata": {},
     "output_type": "execute_result"
    }
   ],
   "source": [
    "array = np.array([[1, 2, 3, 4, 5],\n",
    "                  [10,20,30,40,50],\n",
    "                  [11,22,33,44,55]])\n",
    "np.delete(array, 1, axis=1)\n",
    "#np.delete(array, 1,axis = 1) is used for deleting elements at index 1 along axis 1 (columns)."
   ]
  },
  {
   "cell_type": "markdown",
   "id": "569536e6",
   "metadata": {},
   "source": [
    "#### Searching in NumPy"
   ]
  },
  {
   "cell_type": "markdown",
   "id": "3704a2e0",
   "metadata": {},
   "source": [
    "##### np.where"
   ]
  },
  {
   "cell_type": "code",
   "execution_count": 39,
   "id": "f19c468e",
   "metadata": {},
   "outputs": [],
   "source": [
    "a=np.array([10,20,30,40,50])"
   ]
  },
  {
   "cell_type": "code",
   "execution_count": 40,
   "id": "9b0f82da",
   "metadata": {},
   "outputs": [
    {
     "data": {
      "text/plain": [
       "(array([2]),)"
      ]
     },
     "execution_count": 40,
     "metadata": {},
     "output_type": "execute_result"
    }
   ],
   "source": [
    "index =np.where(a == 30)\n",
    "index #This is a tuple with one element. That single element is a NumPy array."
   ]
  },
  {
   "cell_type": "code",
   "execution_count": 41,
   "id": "5279b71d",
   "metadata": {},
   "outputs": [
    {
     "data": {
      "text/plain": [
       "array([2])"
      ]
     },
     "execution_count": 41,
     "metadata": {},
     "output_type": "execute_result"
    }
   ],
   "source": [
    "#accessing the element in the array which is inside the tuple\n",
    "index[0]"
   ]
  },
  {
   "cell_type": "code",
   "execution_count": 39,
   "id": "35e1d203",
   "metadata": {},
   "outputs": [
    {
     "data": {
      "text/plain": [
       "dtype('int64')"
      ]
     },
     "execution_count": 39,
     "metadata": {},
     "output_type": "execute_result"
    }
   ],
   "source": [
    "index[0].dtype"
   ]
  },
  {
   "cell_type": "markdown",
   "id": "ccecc48b",
   "metadata": {},
   "source": [
    "### Numpy Array vs Python List"
   ]
  },
  {
   "cell_type": "code",
   "execution_count": 40,
   "id": "4a4da0b2",
   "metadata": {},
   "outputs": [
    {
     "data": {
      "text/plain": [
       "[2, 4, 6]"
      ]
     },
     "execution_count": 40,
     "metadata": {},
     "output_type": "execute_result"
    }
   ],
   "source": [
    "#At first glance, NumPy arrays are similar to Python lists. They both serve as containers with fast item getting and setting and somewhat slower inserts and removals of elements.The hands-down simplest example when NumPy arrays beat lists is arithmetic:\n",
    "#for example squarring each number in a list and an array\n",
    "a=[1,2,3]\n",
    "[i*2 for i in a]"
   ]
  },
  {
   "cell_type": "code",
   "execution_count": 42,
   "id": "bd6b45f7",
   "metadata": {},
   "outputs": [
    {
     "data": {
      "text/plain": [
       "array([2, 4, 6])"
      ]
     },
     "execution_count": 42,
     "metadata": {},
     "output_type": "execute_result"
    }
   ],
   "source": [
    "#using numpy\n",
    "b=np.array([1,2,3])\n",
    "b*2"
   ]
  },
  {
   "cell_type": "code",
   "execution_count": 48,
   "id": "31192ce5",
   "metadata": {},
   "outputs": [
    {
     "data": {
      "text/plain": [
       "array([5, 7, 9])"
      ]
     },
     "execution_count": 48,
     "metadata": {},
     "output_type": "execute_result"
    }
   ],
   "source": [
    "#similarly for adding two arrays\n",
    "a=np.array([1,2,3])\n",
    "b=np.array([4,5,6])\n",
    "a+b"
   ]
  },
  {
   "cell_type": "code",
   "execution_count": 49,
   "id": "a5488c08",
   "metadata": {},
   "outputs": [],
   "source": [
    "#python list\n",
    "a=[1,2,3]\n",
    "b=a #no copy\n",
    "c=a[:] # copy\n",
    "d=a.copy() #copy"
   ]
  },
  {
   "cell_type": "code",
   "execution_count": 50,
   "id": "ca764edd",
   "metadata": {},
   "outputs": [],
   "source": [
    "#numpy array\n",
    "a=np.array([1,2,3])\n",
    "b=a #no copy\n",
    "c=a[:] #no copy\n",
    "d=a.copy() #copy"
   ]
  },
  {
   "cell_type": "markdown",
   "id": "13e2148f",
   "metadata": {},
   "source": [
    "### Statistical Operations"
   ]
  },
  {
   "cell_type": "markdown",
   "id": "39fe18de",
   "metadata": {},
   "source": [
    "#### Mean"
   ]
  },
  {
   "cell_type": "code",
   "execution_count": 45,
   "id": "f8054c54",
   "metadata": {},
   "outputs": [
    {
     "data": {
      "text/plain": [
       "array([9, 0, 6, 4, 0])"
      ]
     },
     "execution_count": 45,
     "metadata": {},
     "output_type": "execute_result"
    }
   ],
   "source": [
    "array1 = np.random.randint(0,10,5)\n",
    "array1"
   ]
  },
  {
   "cell_type": "code",
   "execution_count": 46,
   "id": "08c4d68b",
   "metadata": {},
   "outputs": [
    {
     "data": {
      "text/plain": [
       "3.8"
      ]
     },
     "execution_count": 46,
     "metadata": {},
     "output_type": "execute_result"
    }
   ],
   "source": [
    "np.mean(array1)"
   ]
  },
  {
   "cell_type": "markdown",
   "id": "536d6a30",
   "metadata": {},
   "source": [
    "#### Median"
   ]
  },
  {
   "cell_type": "code",
   "execution_count": 47,
   "id": "98e35671",
   "metadata": {},
   "outputs": [
    {
     "data": {
      "text/plain": [
       "4.0"
      ]
     },
     "execution_count": 47,
     "metadata": {},
     "output_type": "execute_result"
    }
   ],
   "source": [
    "array2=np.random.randint(0,10,5)\n",
    "np.median(array2)"
   ]
  },
  {
   "cell_type": "markdown",
   "id": "3971b6fc",
   "metadata": {},
   "source": [
    "#### Standard Deviation"
   ]
  },
  {
   "cell_type": "code",
   "execution_count": 48,
   "id": "31382910",
   "metadata": {},
   "outputs": [
    {
     "data": {
      "text/plain": [
       "1.9390719429665317"
      ]
     },
     "execution_count": 48,
     "metadata": {},
     "output_type": "execute_result"
    }
   ],
   "source": [
    "array3=np.random.randint(0,10,5)\n",
    "np.std(array3)"
   ]
  },
  {
   "cell_type": "markdown",
   "id": "45d9a66c",
   "metadata": {},
   "source": [
    "### Finding Min, Max and Sum"
   ]
  },
  {
   "cell_type": "code",
   "execution_count": 49,
   "id": "4aaf67d9",
   "metadata": {},
   "outputs": [
    {
     "data": {
      "text/plain": [
       "array([ 5, 10, 15, 20, 25])"
      ]
     },
     "execution_count": 49,
     "metadata": {},
     "output_type": "execute_result"
    }
   ],
   "source": [
    "arr=np.array([5,10,15,20,25])\n",
    "arr"
   ]
  },
  {
   "cell_type": "markdown",
   "id": "ede597a2",
   "metadata": {},
   "source": [
    "#### Min"
   ]
  },
  {
   "cell_type": "code",
   "execution_count": 50,
   "id": "5bd15f8f",
   "metadata": {},
   "outputs": [
    {
     "data": {
      "text/plain": [
       "5"
      ]
     },
     "execution_count": 50,
     "metadata": {},
     "output_type": "execute_result"
    }
   ],
   "source": [
    "np.min(arr)"
   ]
  },
  {
   "cell_type": "markdown",
   "id": "1d307d73",
   "metadata": {},
   "source": [
    "#### Max"
   ]
  },
  {
   "cell_type": "code",
   "execution_count": 51,
   "id": "f6f6d75d",
   "metadata": {},
   "outputs": [
    {
     "data": {
      "text/plain": [
       "25"
      ]
     },
     "execution_count": 51,
     "metadata": {},
     "output_type": "execute_result"
    }
   ],
   "source": [
    "np.max(arr)"
   ]
  },
  {
   "cell_type": "markdown",
   "id": "d7f0be59",
   "metadata": {},
   "source": [
    "#### Sum"
   ]
  },
  {
   "cell_type": "code",
   "execution_count": 52,
   "id": "94529d2a",
   "metadata": {},
   "outputs": [
    {
     "data": {
      "text/plain": [
       "75"
      ]
     },
     "execution_count": 52,
     "metadata": {},
     "output_type": "execute_result"
    }
   ],
   "source": [
    "np.sum(arr)"
   ]
  },
  {
   "cell_type": "markdown",
   "id": "ee677230",
   "metadata": {},
   "source": [
    "### Broadcasting in NumPy"
   ]
  },
  {
   "cell_type": "markdown",
   "id": "fe164213",
   "metadata": {},
   "source": [
    "#### Broadcasting is a process in which NumPy automatically expands the smaller array to match the shape of the larger array during arithmetic operations."
   ]
  },
  {
   "cell_type": "code",
   "execution_count": 53,
   "id": "76b5d6f1",
   "metadata": {},
   "outputs": [
    {
     "data": {
      "text/plain": [
       "array([0, 1, 2, 3, 4])"
      ]
     },
     "execution_count": 53,
     "metadata": {},
     "output_type": "execute_result"
    }
   ],
   "source": [
    "a=np.arange(5)\n",
    "a"
   ]
  },
  {
   "cell_type": "code",
   "execution_count": 54,
   "id": "e139c810",
   "metadata": {},
   "outputs": [
    {
     "data": {
      "text/plain": [
       "array([[0],\n",
       "       [1],\n",
       "       [2],\n",
       "       [3],\n",
       "       [4]])"
      ]
     },
     "execution_count": 54,
     "metadata": {},
     "output_type": "execute_result"
    }
   ],
   "source": [
    "b=np.arange(5).reshape((5,1))#reshape function as the name suggests, is used to reshape the array\n",
    "b"
   ]
  },
  {
   "cell_type": "code",
   "execution_count": 55,
   "id": "e34d3776",
   "metadata": {},
   "outputs": [
    {
     "data": {
      "text/plain": [
       "array([[0, 1, 2, 3, 4],\n",
       "       [1, 2, 3, 4, 5],\n",
       "       [2, 3, 4, 5, 6],\n",
       "       [3, 4, 5, 6, 7],\n",
       "       [4, 5, 6, 7, 8]])"
      ]
     },
     "execution_count": 55,
     "metadata": {},
     "output_type": "execute_result"
    }
   ],
   "source": [
    "a+b"
   ]
  },
  {
   "cell_type": "markdown",
   "id": "33005d8b",
   "metadata": {},
   "source": [
    "##### Here, 'a' and 'b' arrays are expanded to a common shape, which in this case is (5,5). In 'a' the row is duplicated and expanded to make 5 rows and in 'b' the column is duplicated and expanded to make 5 columns."
   ]
  }
 ],
 "metadata": {
  "kernelspec": {
   "display_name": "Python 3 (ipykernel)",
   "language": "python",
   "name": "python3"
  },
  "language_info": {
   "codemirror_mode": {
    "name": "ipython",
    "version": 3
   },
   "file_extension": ".py",
   "mimetype": "text/x-python",
   "name": "python",
   "nbconvert_exporter": "python",
   "pygments_lexer": "ipython3",
   "version": "3.11.9"
  }
 },
 "nbformat": 4,
 "nbformat_minor": 5
}
