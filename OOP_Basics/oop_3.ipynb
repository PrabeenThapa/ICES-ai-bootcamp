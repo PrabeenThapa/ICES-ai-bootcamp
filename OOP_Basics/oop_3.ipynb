{
 "cells": [
  {
   "cell_type": "markdown",
   "metadata": {},
   "source": [
    "# OOP 3"
   ]
  },
  {
   "cell_type": "markdown",
   "metadata": {},
   "source": [
    "## Polymorpism\n",
    "\n",
    "Polymorphism refers to the ability of different objects to respond to the same method or function call, depending on their data type or class."
   ]
  },
  {
   "cell_type": "markdown",
   "metadata": {},
   "source": [
    "### Method Overriding (Runtime Polymorphism)\n",
    "\n",
    "Subclass provides a specific implementation of a method that is already defined in its superclass. This allows the subclass to provide its own implementation of the method while still maintaining the same method signature as the parent class."
   ]
  },
  {
   "cell_type": "code",
   "execution_count": null,
   "metadata": {},
   "outputs": [],
   "source": [
    "class Animal:\n",
    "    def sound(self):\n",
    "        print(\"Animal makes a sound\")\n",
    "\n",
    "class Dog(Animal):\n",
    "    def sound(self):\n",
    "        print(\"Dog barks\")\n",
    "\n",
    "class Cat(Animal):\n",
    "    def sound(self):\n",
    "        print(\"Cat meows\")\n",
    "\n",
    "# Polymorphic behavior\n",
    "animals = [Dog(), Cat()]\n",
    "for animal in animals:\n",
    "    animal.sound()"
   ]
  },
  {
   "cell_type": "code",
   "execution_count": null,
   "metadata": {},
   "outputs": [],
   "source": [
    "# Parent class (Superclass)\n",
    "class Animal:\n",
    "    def __init__(self, name, age):\n",
    "        self.name = name\n",
    "        self.age = age\n",
    "    \n",
    "    def speak(self):\n",
    "        raise NotImplementedError(\"Subclass must implement abstract method\")\n",
    "\n",
    "    def eat(self):\n",
    "        return f\"{self.name} is eating\"\n",
    "\n",
    "# Child class (Subclass) inheriting from Animal\n",
    "class Dog(Animal):\n",
    "    def __init__(self, name, age, breed):\n",
    "        super().__init__(name, age)\n",
    "        self.breed = breed\n",
    "    \n",
    "    def speak(self):                    # Same method as parent class\n",
    "        return f\"{self.name} says Woof!\"\n",
    "\n",
    "    def fetch(self):\n",
    "        return f\"{self.name} is fetching\"\n",
    "\n",
    "# Usage:\n",
    "dog = Dog(\"Puppy\", 4, \"Bhusiya\")\n",
    "print(dog.speak())      \n",
    "print(dog.eat())        \n",
    "print(dog.fetch())      \n",
    "print(f\"{dog.name} is {dog.age} years old and is a {dog.breed}\")  "
   ]
  },
  {
   "cell_type": "markdown",
   "metadata": {},
   "source": [
    "### Method Overloading (Ad hoc programming)\n",
    "\n",
    "In programming languages, **ad hoc polymorphism** is a kind of polymorphism in which polymorphic functions can be applied to arguments of different types. This means it allows multiple methods with the same name but different parameter lists to be defined in the same class.\n",
    "\n",
    "**Ad Hoc Polymorphism:** Not natively supported in Python. You can achieve similar functionality using techniques like default arguments, *args, and **kwargs.\n"
   ]
  },
  {
   "cell_type": "code",
   "execution_count": null,
   "metadata": {},
   "outputs": [],
   "source": [
    "class MathOperations:\n",
    "    def add(self, a, b):\n",
    "        return a + b\n",
    "    def add(self, a, b, c):\n",
    "        return a + b + c\n",
    "\n",
    "math = MathOperations()\n",
    "print(math.add(1, 2))          # This will raise a TypeError\n",
    "print(math.add(1, 2, 3))       # Output: 6"
   ]
  },
  {
   "cell_type": "code",
   "execution_count": null,
   "metadata": {},
   "outputs": [],
   "source": [
    "class MathOperations:\n",
    "    def add(self, a, b, c=0):\n",
    "        return a + b + c\n",
    "\n",
    "math = MathOperations()\n",
    "print(math.add(1, 2))    # Output: 3\n",
    "print(math.add(1, 2, 3)) # Output: 6"
   ]
  },
  {
   "cell_type": "markdown",
   "metadata": {},
   "source": [
    "**What if someone again writes `math.add(1,2,3,4)`, again it throws error**"
   ]
  },
  {
   "cell_type": "code",
   "execution_count": null,
   "metadata": {},
   "outputs": [],
   "source": [
    "class MathOperations:\n",
    "    def add(self, *args, **kwargs):\n",
    "        if kwargs.get('c') is not None:\n",
    "            return sum(args) + kwargs['c']\n",
    "        return sum(args)\n",
    "\n",
    "math = MathOperations()\n",
    "print(math.add(1, 2))                   # Output: 3\n",
    "print(math.add(1, 2, 3))                # Output: 6\n",
    "print(math.add(1, 2, c=10))             # Output: 13\n",
    "print(math.add(1, 2, 3, c=10))          # Output: 16"
   ]
  },
  {
   "cell_type": "markdown",
   "metadata": {},
   "source": [
    "#### *args and **kwargs?\n",
    "\n",
    "They provide a way to handle functions with an arbitrary number of arguments, enabling more flexible and reusable code.\n",
    "\n",
    "**`*args`:** The *args syntax is used to pass a variable number of non-keyword arguments to a function. It allows you to take in more arguments than the number of formal arguments that you previously defined.\n",
    "\n",
    "- *args is a tuple of arguments.\n",
    "\n",
    "- It is used to send a non-keyworded variable-length argument list to the function.\n",
    "\n",
    "- *args allows the function to accept any number of positional arguments.\n"
   ]
  },
  {
   "cell_type": "code",
   "execution_count": null,
   "metadata": {},
   "outputs": [],
   "source": [
    "def example_function(*args):\n",
    "    for arg in args:\n",
    "        print(arg)\n",
    "\n",
    "example_function(1, 2, 3, 4, 5)\n"
   ]
  },
  {
   "cell_type": "markdown",
   "metadata": {},
   "source": [
    "**`**kwargs`:** The **kwargs syntax is used to pass a variable number of keyword arguments to a function. It allows you to handle named arguments that you have not defined in advance.\n",
    "\n",
    "- **kwargs is a dictionary of arguments.\n",
    "\n",
    "- It is used to pass a keyworded, variable-length argument list.\n",
    "\n",
    "- **kwargs allows the function to accept any number of keyword arguments."
   ]
  },
  {
   "cell_type": "code",
   "execution_count": null,
   "metadata": {},
   "outputs": [],
   "source": [
    "def example_function(**kwargs):\n",
    "    for key, value in kwargs.items():\n",
    "        print(f\"{key} = {value}\")\n",
    "\n",
    "example_function(name=\"Alice\", age=30, city=\"New York\")"
   ]
  },
  {
   "cell_type": "markdown",
   "metadata": {},
   "source": [
    "Combining `*args` and `**kwargs`:  function can accept any number of positional and keyword arguments"
   ]
  },
  {
   "cell_type": "code",
   "execution_count": null,
   "metadata": {},
   "outputs": [],
   "source": [
    "def example_function(*args, **kwargs):\n",
    "    for arg in args:\n",
    "        print(f\"arg: {arg}\")\n",
    "    for key, value in kwargs.items():\n",
    "        print(f\"{key} = {value}\")\n",
    "\n",
    "example_function(1, 2, 3, name=\"Alice\", age=30)"
   ]
  },
  {
   "cell_type": "markdown",
   "metadata": {},
   "source": [
    "Reasons for using `*args` and `**kwargs`:\n",
    "\n",
    "**Flexible Function Definitions:** Allows you to write functions that can accept any number of arguments, making them more flexible.\n",
    "\n",
    "**Wrapper Functions:** Useful when writing decorators or wrapper functions where you don't know the number of arguments in advance.\n",
    "\n",
    "**Forwarding Arguments:** You can forward arguments to other functions while adding additional parameters. "
   ]
  },
  {
   "cell_type": "markdown",
   "metadata": {},
   "source": [
    "### Operator Overloading\n",
    "\n",
    "Python allows operators such as +, -, *, /, etc., to be overloaded for objects. This means that you can define special methods in a class to specify how operators should behave with instances of that class. \n"
   ]
  },
  {
   "cell_type": "code",
   "execution_count": null,
   "metadata": {},
   "outputs": [],
   "source": [
    "# Python program to show use of operator for different purposes.\n",
    "print(1 + 2)\n",
    "\n",
    "# concatenate two strings\n",
    "print(\"Geeks\"+\"For\") \n",
    "\n",
    "# Product two numbers\n",
    "print(3 * 4)\n",
    "\n",
    "# Repeat the String\n",
    "print(\"Geeks\"*4)"
   ]
  },
  {
   "cell_type": "markdown",
   "metadata": {},
   "source": [
    "To perform operator overloading, Python provides some special function or magic function that is automatically invoked when it is associated with that particular operator. For example, when we use + operator, the magic method `__add__` is automatically invoked in which the operation for + operator is defined."
   ]
  },
  {
   "cell_type": "code",
   "execution_count": null,
   "metadata": {},
   "outputs": [],
   "source": [
    "class Point:\n",
    "    def __init__(self, x, y):\n",
    "        self.x = x\n",
    "        self.y = y\n",
    "    \n",
    "    def __add__(self, other):\n",
    "        return Point(self.x + other.x, self.y + other.y)\n",
    "\n",
    "# Overloading the + operator\n",
    "p1 = Point(1, 2)\n",
    "p2 = Point(3, 4)\n",
    "result = p1 + p2  # + calls __add__ magic function\n",
    "# print function called __str__ magic function\n",
    "print(f\"Resulting Point: ({result.x}, {result.y})\")  # Output: Resulting Point: (4, 6)"
   ]
  },
  {
   "cell_type": "markdown",
   "metadata": {},
   "source": [
    "#### How Does the Operator Overloading Actually work?\n",
    "\n",
    "Whenever you change the behavior of the existing operator through operator overloading, you have to redefine the special function that is invoked automatically when the operator is used with the objects."
   ]
  },
  {
   "cell_type": "markdown",
   "metadata": {},
   "source": [
    "### Duck Typing\n",
    "\n",
    "Duck typing in Python is a concept where the type or class of an object is less important than the methods it defines. If an object implements certain methods, it can be used in place of another object that also implements those methods, regardless of their explicit type."
   ]
  },
  {
   "cell_type": "code",
   "execution_count": null,
   "metadata": {},
   "outputs": [],
   "source": [
    "class Duck:\n",
    "    def sound(self):\n",
    "        print(\"Quack quack!\")\n",
    "\n",
    "class Cat:\n",
    "    def sound(self):\n",
    "        print(\"Meow!\")\n",
    "\n",
    "# Duck typing example\n",
    "def make_sound(animal):\n",
    "    animal.sound()\n",
    "\n",
    "duck = Duck()\n",
    "cat = Cat()\n",
    "\n",
    "make_sound(duck)  # Output: Quack quack!\n",
    "make_sound(cat)   # Output: Meow!"
   ]
  },
  {
   "cell_type": "markdown",
   "metadata": {},
   "source": [
    "## Abstraction\n",
    "\n",
    "Abstraction is a fundamental principle of object-oriented programming (OOP) that focuses on hiding the complex implementation details of a class and exposing only the necessary parts to the user. It allows programmers to create a blueprint for a class with a set of methods (functions) to be implemented by any subclass."
   ]
  },
  {
   "cell_type": "code",
   "execution_count": null,
   "metadata": {},
   "outputs": [
    {
     "name": "stdout",
     "output_type": "stream",
     "text": [
      "50\n"
     ]
    }
   ],
   "source": [
    "from abc import ABC, abstractmethod\n",
    "\n",
    "class Shape(ABC):\n",
    "    @abstractmethod # We will see more in OOP 4\n",
    "    def area(self):\n",
    "        pass\n",
    "\n",
    "class Rectangle(Shape):\n",
    "    def __init__(self, width, height):\n",
    "        self.width = width\n",
    "        self.height = height\n",
    "\n",
    "    def area(self):         # this method must be in each subclass because there is use of @abstractmethod\n",
    "        return self.width * self.height\n",
    "\n",
    "rectangle = Rectangle(5, 10)\n",
    "print(rectangle.area())  "
   ]
  },
  {
   "cell_type": "markdown",
   "metadata": {},
   "source": [
    "**Abstract Base Class (Shape):**  Provides a blueprint for subclasses (Rectangle in this case) to define common methods without specifying their implementation details.\n",
    "\n",
    "**Abstract Method (area()):**  Defined in the Shape class, it serves as a contract that any subclass must fulfill by providing its own implementation of area()."
   ]
  },
  {
   "cell_type": "code",
   "execution_count": null,
   "metadata": {},
   "outputs": [
    {
     "name": "stdout",
     "output_type": "stream",
     "text": [
      "Help on function abstractmethod in module abc:\n",
      "\n",
      "abstractmethod(funcobj)\n",
      "    A decorator indicating abstract methods.\n",
      "\n",
      "    Requires that the metaclass is ABCMeta or derived from it.  A\n",
      "    class that has a metaclass derived from ABCMeta cannot be\n",
      "    instantiated unless all of its abstract methods are overridden.\n",
      "    The abstract methods can be called using any of the normal\n",
      "    'super' call mechanisms.  abstractmethod() may be used to declare\n",
      "    abstract methods for properties and descriptors.\n",
      "\n",
      "    Usage:\n",
      "\n",
      "        class C(metaclass=ABCMeta):\n",
      "            @abstractmethod\n",
      "            def my_abstract_method(self, arg1, arg2, argN):\n",
      "                ...\n",
      "\n"
     ]
    }
   ],
   "source": [
    "help(abstractmethod)"
   ]
  },
  {
   "cell_type": "markdown",
   "metadata": {},
   "source": [
    "## Composition\n",
    "\n",
    "Used when objects are composed of other objects as parts. It enables creating complex types by combining objects of other types as components. Unlike inheritance, where objects inherit behaviors and properties from a superclass, composition allows objects to contain instances of other classes that implement desired functionalities."
   ]
  },
  {
   "cell_type": "markdown",
   "metadata": {},
   "source": [
    "Composition establishes a \"has-a\" relationship between classes, where one class (containing object) has another class (contained object) as a part of its state.\n",
    "\n",
    "This means: Use composition when classes have a \"has-a\" relationship rather than an \"is-a\" relationship (which favors inheritance)."
   ]
  },
  {
   "cell_type": "code",
   "execution_count": null,
   "metadata": {},
   "outputs": [],
   "source": [
    "class Engine:\n",
    "    def start(self):\n",
    "        return \"Engine starting\"\n",
    "\n",
    "    def stop(self):\n",
    "        return \"Engine stopping\"\n",
    "\n",
    "class Car:\n",
    "    def __init__(self):\n",
    "        self.engine = Engine()  # Composition: Car has an Engine\n",
    "\n",
    "    def drive(self):\n",
    "        return f\"Car is driving. {self.engine.start()}\"\n",
    "\n",
    "    def brake(self):\n",
    "        return f\"Car is braking. {self.engine.stop()}\"\n",
    "\n",
    "# Usage:\n",
    "car = Car()\n",
    "print(car.drive())   \n",
    "print(car.brake())   "
   ]
  }
 ],
 "metadata": {
  "kernelspec": {
   "display_name": ".venv",
   "language": "python",
   "name": "python3"
  },
  "language_info": {
   "codemirror_mode": {
    "name": "ipython",
    "version": 3
   },
   "file_extension": ".py",
   "mimetype": "text/x-python",
   "name": "python",
   "nbconvert_exporter": "python",
   "pygments_lexer": "ipython3",
   "version": "3.12.3"
  }
 },
 "nbformat": 4,
 "nbformat_minor": 2
}
