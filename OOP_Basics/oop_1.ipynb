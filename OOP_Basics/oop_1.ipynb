{
 "cells": [
  {
   "cell_type": "markdown",
   "metadata": {},
   "source": [
    "# Python OOP "
   ]
  },
  {
   "cell_type": "markdown",
   "metadata": {},
   "source": [
    "A **class** is a user-defined blueprint or prototype from which objects are created. Creating a new class creates a new type of **object**, allowing new instances of that type to be made. Each class instance can have **attributes** attached to it for maintaining its state along with **methods** for changing the states or behavior."
   ]
  },
  {
   "cell_type": "markdown",
   "metadata": {},
   "source": [
    "**Real World Example**:\n",
    "\n",
    "**ATTENDANCE SYSTEM**:\n",
    "\n",
    "- **Attributes**: *student_name, roll_no, faculty*\n",
    "\n",
    "- **Methods**: *add_student_record, mark_attendance, status*"
   ]
  },
  {
   "cell_type": "markdown",
   "metadata": {},
   "source": [
    "Resources:\n",
    "* [Documentation](https://docs.python.org/3/tutorial/classes.html)\n",
    "* [GeeksforGeeks](https://www.geeksforgeeks.org/python-classes-and-objects/)\n",
    "* [w3schools](https://www.w3schools.com/python/python_classes.asp)"
   ]
  },
  {
   "cell_type": "markdown",
   "metadata": {},
   "source": [
    "## Why to learn classes?"
   ]
  },
  {
   "cell_type": "markdown",
   "metadata": {},
   "source": [
    "**We can create the independent functions and still work fine, so why do we need class?**\n",
    "\n",
    "- Encapsulation and Organization\n",
    "\n",
    "- Code Reusability\n",
    "\n",
    "- Inheritance\n",
    "\n",
    "- Polymorphism\n",
    "\n",
    "- Abstraction\n",
    "\n",
    "- Data Integrity"
   ]
  },
  {
   "cell_type": "markdown",
   "metadata": {},
   "source": [
    "## Coding"
   ]
  },
  {
   "cell_type": "code",
   "execution_count": 5,
   "metadata": {},
   "outputs": [
    {
     "name": "stdout",
     "output_type": "stream",
     "text": [
      "<__main__.myprofile object at 0x7f273ff10050>\n",
      "<__main__.myprofile object at 0x7f273ff11910>\n"
     ]
    }
   ],
   "source": [
    "# Syntax:\n",
    "\n",
    "class myprofile: # myprofile()\n",
    "    # Class body\n",
    "    pass\n",
    "\n",
    "profile1 = myprofile()\n",
    "print(myprofile())\n",
    "print(profile1)"
   ]
  },
  {
   "cell_type": "markdown",
   "metadata": {},
   "source": [
    "## Just remember this dir() function will be needed when we use default class on pytorch"
   ]
  },
  {
   "cell_type": "code",
   "execution_count": 6,
   "metadata": {},
   "outputs": [
    {
     "data": {
      "text/plain": [
       "['__class__',\n",
       " '__delattr__',\n",
       " '__dict__',\n",
       " '__dir__',\n",
       " '__doc__',\n",
       " '__eq__',\n",
       " '__format__',\n",
       " '__ge__',\n",
       " '__getattribute__',\n",
       " '__getstate__',\n",
       " '__gt__',\n",
       " '__hash__',\n",
       " '__init__',\n",
       " '__init_subclass__',\n",
       " '__le__',\n",
       " '__lt__',\n",
       " '__module__',\n",
       " '__ne__',\n",
       " '__new__',\n",
       " '__reduce__',\n",
       " '__reduce_ex__',\n",
       " '__repr__',\n",
       " '__setattr__',\n",
       " '__sizeof__',\n",
       " '__str__',\n",
       " '__subclasshook__',\n",
       " '__weakref__']"
      ]
     },
     "execution_count": 6,
     "metadata": {},
     "output_type": "execute_result"
    }
   ],
   "source": [
    "dir(myprofile)"
   ]
  },
  {
   "cell_type": "code",
   "execution_count": 7,
   "metadata": {},
   "outputs": [
    {
     "ename": "SyntaxError",
     "evalue": "invalid syntax (1870878129.py, line 3)",
     "output_type": "error",
     "traceback": [
      "\u001b[0;36m  Cell \u001b[0;32mIn[7], line 3\u001b[0;36m\u001b[0m\n\u001b[0;31m    profile1.class = 'BEI077' # throws error because class is keyword and can't be used as variable name\u001b[0m\n\u001b[0m             ^\u001b[0m\n\u001b[0;31mSyntaxError\u001b[0m\u001b[0;31m:\u001b[0m invalid syntax\n"
     ]
    }
   ],
   "source": [
    "profile1.name = 'Sandesh Bashyal'\n",
    "profile1.age = 22\n",
    "profile1.class = 'BEI077' # throws error because class is keyword and can't be used as variable name\n",
    "\n",
    "print(f'Name of the Student: {profile1.name}\\nAge of the Student: {[profile1.age]}\\nClass of the Student: {profile1.class}')"
   ]
  },
  {
   "cell_type": "code",
   "execution_count": null,
   "metadata": {},
   "outputs": [
    {
     "name": "stdout",
     "output_type": "stream",
     "text": [
      "Name of the Student: Sandesh Bashyal\n",
      "Age of the Student: 22\n",
      "Class of the Student: BEI077\n",
      "<class '__main__.myprofile'>\n"
     ]
    }
   ],
   "source": [
    "profile1.name = 'Sandesh Bashyal'\n",
    "profile1.age = 22\n",
    "profile1.classname = 'BEI077' \n",
    "\n",
    "print(f'Name of the Student: {profile1.name}\\nAge of the Student: {profile1.age}\\nClass of the Student: {profile1.classname}')\n",
    "print(myprofile)"
   ]
  },
  {
   "cell_type": "code",
   "execution_count": null,
   "metadata": {},
   "outputs": [
    {
     "name": "stdout",
     "output_type": "stream",
     "text": [
      "Name of the Student: XYZ\n",
      "Age of the Student: 20\n",
      "Class of the Student: BEI079\n",
      "*********************************\n",
      "Name of the Student: Sandesh Bashyal\n",
      "Age of the Student: 22\n",
      "Class of the Student: BEI077\n"
     ]
    }
   ],
   "source": [
    "name = 'XYZ'\n",
    "age = 20\n",
    "classname = 'BEI079'\n",
    "print(f'Name of the Student: {name}\\nAge of the Student: {age}\\nClass of the Student: {classname}')\n",
    "print('*********************************')\n",
    "print(f'Name of the Student: {profile1.name}\\nAge of the Student: {profile1.age}\\nClass of the Student: {profile1.classname}')"
   ]
  },
  {
   "cell_type": "markdown",
   "metadata": {},
   "source": [
    "### Class used in practice"
   ]
  },
  {
   "cell_type": "code",
   "execution_count": null,
   "metadata": {},
   "outputs": [
    {
     "name": "stdout",
     "output_type": "stream",
     "text": [
      "Name of the Student: Sandesh Bashyal\n",
      "Age of the Student: 22\n",
      "Class of the Student: BEI077\n"
     ]
    }
   ],
   "source": [
    "class myprofile:\n",
    "    def __init__(s, name, age, classname):\n",
    "        s.name = nameprofile1.update_age(23)\n",
    "print(profile1,'\\n')\n",
    "\n",
    "profile1.update_classname(\"BEI078\")\n",
    "print(profile1,'\\n')\n",
    "\n",
    "print(profile1.greet(),'\\n')\n",
    "\n",
    "print(f'Is the student an adult? {profile1.is_adult()}')\n",
    "        s.age = age\n",
    "        s.classname = classname\n",
    "\n",
    "# Creating an instance of the StudentProfile class\n",
    "profile1 = myprofile(\"Sandesh Bashyal\", 22, \"BEI077\")\n",
    "\n",
    "print(f'Name of the Student: {profile1.name}\\nAge of the Student: {profile1.age}\\nClass of the Student: {profile1.classname}')"
   ]
  },
  {
   "cell_type": "code",
   "execution_count": null,
   "metadata": {},
   "outputs": [
    {
     "name": "stdout",
     "output_type": "stream",
     "text": [
      "Hello Sandesh Bashyal of age 22, studying in class BEI077\n"
     ]
    }
   ],
   "source": [
    "class myprofile:\n",
    "    \"\"\"\n",
    "    This is the class to create my profile;\n",
    "    name -> my full name\n",
    "    age -> my age\n",
    "    classname -> my classname\n",
    "    \"\"\"\n",
    "\n",
    "    def __init__(self, name, age, classname):\n",
    "        self.name = name\n",
    "        self.age = age\n",
    "        self.classname = classname\n",
    "        \n",
    "    def __str__(self) -> str:\n",
    "        \"\"\" String representation of the Student Profile \"\"\"\n",
    "        return f'Hello {self.name} of age {self.age}, studying in class {self.classname}'\n",
    "    \n",
    "profile1 = myprofile(\"Sandesh Bashyal\", 22, \"BEI077\")\n",
    "print(profile1)"
   ]
  },
  {
   "cell_type": "code",
   "execution_count": 18,
   "metadata": {},
   "outputs": [
    {
     "name": "stdout",
     "output_type": "stream",
     "text": [
      "Hello Sandesh Bashyal of age 22, studying in class BEI077 \n",
      "\n",
      "Hello Sandesh Bashyal of age 23, studying in class BEI077 \n",
      "\n",
      "Hello Sandesh Bashyal of age 23, studying in class BEI078 \n",
      "\n",
      "Hi Sandesh Bashyal! Welcome to the class BEI078. \n",
      "\n",
      "Is the student an adult? True\n"
     ]
    }
   ],
   "source": [
    "# Add more methods\n",
    "class myprofile:\n",
    "    \"\"\"\n",
    "    This is the class to create my profile;\n",
    "    name -> my full name\n",
    "    age -> my age\n",
    "    classname -> my classname\n",
    "    \"\"\"\n",
    "\n",
    "    def __init__(self, name, age, classname):\n",
    "        self.name = name\n",
    "        self.age = age\n",
    "        self.classname = classname\n",
    "        \n",
    "    def __str__(self) -> str:\n",
    "        \"\"\"String representation of the Student Profile\"\"\"\n",
    "        return f'Hello {self.name} of age {self.age}, studying in class {self.classname}'\n",
    "    \n",
    "    def __eq__(self, other) -> bool:\n",
    "        \"\"\"Checks if two MyProfile instances are equal\"\"\"\n",
    "        if isinstance(other, myprofile):\n",
    "            return (self.name == other.name and\n",
    "                    self.age == other.age and\n",
    "                    self.classname == other.classname)\n",
    "        return False\n",
    "    \n",
    "    def update_age(self, new_age: int) -> int:\n",
    "        \"\"\"Updates the age of the student\"\"\"\n",
    "        self.age = new_age\n",
    "        \n",
    "    def update_classname(self, new_classname: str) -> str:\n",
    "        \"\"\"Updates the classname of the student\"\"\"\n",
    "        self.classname = new_classname\n",
    "        \n",
    "    def greet(self) -> str:\n",
    "        \"\"\"Returns a personalized greeting\"\"\"\n",
    "        return f'Hi {self.name}! Welcome to the class {self.classname}.'\n",
    "    \n",
    "    def is_adult(self) -> bool:\n",
    "        \"\"\"Checks if the student is an adult (18 years or older)\"\"\"\n",
    "        return self.age >= 18\n",
    "\n",
    "profile1 = myprofile(\"Sandesh Bashyal\", 22, \"BEI077\")\n",
    "\n",
    "print(profile1,'\\n')\n",
    "\n",
    "profile1.update_age(23)\n",
    "print(profile1,'\\n')\n",
    "\n",
    "profile1.update_classname(\"BEI078\")\n",
    "print(profile1,'\\n')\n",
    "\n",
    "print(profile1.greet(),'\\n')\n",
    "\n",
    "print(f'Is the student an adult? {profile1.is_adult()}')"
   ]
  },
  {
   "cell_type": "code",
   "execution_count": 19,
   "metadata": {},
   "outputs": [
    {
     "name": "stdout",
     "output_type": "stream",
     "text": [
      "True\n",
      "False\n"
     ]
    }
   ],
   "source": [
    "profile1 = myprofile(\"Sandesh Bashyal\", 22, \"BEI077\")\n",
    "profile2 = myprofile(\"Sandesh Bashyal\", 22, \"BEI077\")\n",
    "profile3 = myprofile(\"Bashyal Sandesh\", 23, \"BEI077\")\n",
    "\n",
    "# Checking for equality\n",
    "print(profile1 == profile2)  # True\n",
    "print(profile1 == profile3)  # False"
   ]
  },
  {
   "cell_type": "code",
   "execution_count": 11,
   "metadata": {},
   "outputs": [
    {
     "data": {
      "text/plain": [
       "['__class__',\n",
       " '__delattr__',\n",
       " '__dict__',\n",
       " '__dir__',\n",
       " '__doc__',\n",
       " '__eq__',\n",
       " '__format__',\n",
       " '__ge__',\n",
       " '__getattribute__',\n",
       " '__getstate__',\n",
       " '__gt__',\n",
       " '__hash__',\n",
       " '__init__',\n",
       " '__init_subclass__',\n",
       " '__le__',\n",
       " '__lt__',\n",
       " '__module__',\n",
       " '__ne__',\n",
       " '__new__',\n",
       " '__reduce__',\n",
       " '__reduce_ex__',\n",
       " '__repr__',\n",
       " '__setattr__',\n",
       " '__sizeof__',\n",
       " '__str__',\n",
       " '__subclasshook__',\n",
       " '__weakref__',\n",
       " 'greet',\n",
       " 'is_adult',\n",
       " 'update_age',\n",
       " 'update_classname']"
      ]
     },
     "execution_count": 11,
     "metadata": {},
     "output_type": "execute_result"
    }
   ],
   "source": [
    "dir(myprofile)"
   ]
  },
  {
   "cell_type": "code",
   "execution_count": null,
   "metadata": {},
   "outputs": [
    {
     "name": "stdout",
     "output_type": "stream",
     "text": [
      "Help on class myprofile in module __main__:\n",
      "\n",
      "class myprofile(builtins.object)\n",
      " |  myprofile(name, age, classname)\n",
      " |\n",
      " |  This is the class to create my profile;\n",
      " |  name -> my full name\n",
      " |  age -> my age\n",
      " |  classname -> my classname\n",
      " |\n",
      " |  Methods defined here:\n",
      " |\n",
      " |  __eq__(self, other) -> bool\n",
      " |      Checks if two MyProfile instances are equal\n",
      " |\n",
      " |  __init__(self, name, age, classname)\n",
      " |      Initialize self.  See help(type(self)) for accurate signature.\n",
      " |\n",
      " |  __str__(self) -> str\n",
      " |      String representation of the Student Profile\n",
      " |\n",
      " |  greet(self) -> str\n",
      " |      Returns a personalized greeting\n",
      " |\n",
      " |  is_adult(self) -> bool\n",
      " |      Checks if the student is an adult (18 years or older)\n",
      " |\n",
      " |  update_age(self, new_age: int) -> int\n",
      " |      Updates the age of the student\n",
      " |\n",
      " |  update_classname(self, new_classname: str) -> str\n",
      " |      Updates the classname of the student\n",
      " |\n",
      " |  ----------------------------------------------------------------------\n",
      " |  Data descriptors defined here:\n",
      " |\n",
      " |  __dict__\n",
      " |      dictionary for instance variables\n",
      " |\n",
      " |  __weakref__\n",
      " |      list of weak references to the object\n",
      " |\n",
      " |  ----------------------------------------------------------------------\n",
      " |  Data and other attributes defined here:\n",
      " |\n",
      " |  __hash__ = None\n",
      "\n"
     ]
    }
   ],
   "source": [
    "help(myprofile)"
   ]
  },
  {
   "cell_type": "code",
   "execution_count": null,
   "metadata": {},
   "outputs": [
    {
     "name": "stdout",
     "output_type": "stream",
     "text": [
      "Help on function greet in module __main__:\n",
      "\n",
      "greet(self) -> str\n",
      "    Returns a personalized greeting\n",
      "\n"
     ]
    }
   ],
   "source": [
    "help(myprofile.greet)"
   ]
  },
  {
   "cell_type": "markdown",
   "metadata": {},
   "source": [
    "## Real World Example"
   ]
  },
  {
   "cell_type": "code",
   "execution_count": 8,
   "metadata": {},
   "outputs": [],
   "source": [
    "class Student:\n",
    "    \"\"\"\n",
    "    This class represents a student.\n",
    "    Attributes:\n",
    "    - name: Full name of the student\n",
    "    - student_id: Unique ID for the student\n",
    "    - attendance: A dictionary to track attendance\n",
    "    \"\"\"\n",
    "\n",
    "    def __init__(self, name: str, student_id: int):\n",
    "        self.name = name\n",
    "        self.student_id = student_id\n",
    "        self.attendance = {}\n",
    "\n",
    "    def mark_attendance(self, date: str, status: str):\n",
    "        \"\"\"\n",
    "        Marks the student's attendance for a specific date.\n",
    "        Parameters:\n",
    "        - date: The date of the attendance record (e.g., \"2024-07-10\")\n",
    "        - status: The attendance status (e.g., \"Present\", \"Absent\")\n",
    "        \"\"\"\n",
    "        self.attendance[date] = status\n",
    "\n",
    "    def __str__(self):\n",
    "        return f'{self.name} (ID: {self.student_id})'"
   ]
  },
  {
   "cell_type": "code",
   "execution_count": 23,
   "metadata": {},
   "outputs": [
    {
     "name": "stdout",
     "output_type": "stream",
     "text": [
      "Alice Johnson (ID: 1): {'2024-07-10': 'Present'}\n",
      "Bob Smith (ID: 2): {'2024-07-10': 'Absent'}\n"
     ]
    }
   ],
   "source": [
    "class Classroom:\n",
    "    \"\"\"\n",
    "    This class manages a list of students and their attendance.\n",
    "    Attributes:\n",
    "    - class_name: Name of the classroom\n",
    "    - students: A list of Student objects\n",
    "    \"\"\"\n",
    "\n",
    "    def __init__(self, class_name: str):\n",
    "        self.class_name = class_name\n",
    "        self.students = []\n",
    "\n",
    "    def add_student(self, student: Student):\n",
    "        \"\"\"\n",
    "        Adds a student to the classroom.\n",
    "        Parameters:\n",
    "        - student: A Student object\n",
    "        \"\"\"\n",
    "        self.students.append(student)\n",
    "\n",
    "    def mark_attendance_for_all(self, date: str, statuses: dict):\n",
    "        \"\"\"\n",
    "        Marks attendance for all students in the classroom.\n",
    "        Parameters:\n",
    "        - date: The date of the attendance record\n",
    "        - statuses: A dictionary with student IDs as keys and attendance statuses as values\n",
    "        \"\"\"\n",
    "        for student in self.students:\n",
    "            if student.student_id in statuses:\n",
    "                student.mark_attendance(date, statuses[student.student_id])\n",
    "\n",
    "    def get_attendance_report(self):\n",
    "        \"\"\"\n",
    "        Prints the attendance report for all students.\n",
    "        \"\"\"\n",
    "        for student in self.students:\n",
    "            print(f'{student}: {student.attendance}')\n",
    "\n",
    "# Example Usage\n",
    "# Create instances of Student\n",
    "student1 = Student(\"Alice Johnson\", 1)\n",
    "student2 = Student(\"Bob Smith\", 2)\n",
    "\n",
    "# Create an instance of Classroom\n",
    "classroom = Classroom(\"Class 101\")\n",
    "\n",
    "# Add students to the classroom\n",
    "classroom.add_student(student1)\n",
    "classroom.add_student(student2)\n",
    "\n",
    "# Mark attendance for all students\n",
    "attendance_statuses = {1: \"Present\", 2: \"Absent\"}\n",
    "classroom.mark_attendance_for_all(\"2024-07-10\", attendance_statuses)\n",
    "\n",
    "# Print the attendance report\n",
    "classroom.get_attendance_report()"
   ]
  }
 ],
 "metadata": {
  "kernelspec": {
   "display_name": ".venv",
   "language": "python",
   "name": "python3"
  },
  "language_info": {
   "codemirror_mode": {
    "name": "ipython",
    "version": 3
   },
   "file_extension": ".py",
   "mimetype": "text/x-python",
   "name": "python",
   "nbconvert_exporter": "python",
   "pygments_lexer": "ipython3",
   "version": "3.11.9"
  }
 },
 "nbformat": 4,
 "nbformat_minor": 2
}
