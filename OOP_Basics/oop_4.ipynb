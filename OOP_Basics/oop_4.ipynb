{
 "cells": [
  {
   "cell_type": "markdown",
   "metadata": {},
   "source": [
    "# OOP 4"
   ]
  },
  {
   "cell_type": "markdown",
   "metadata": {
    "vscode": {
     "languageId": "plaintext"
    }
   },
   "source": [
    "## Decorator"
   ]
  },
  {
   "cell_type": "markdown",
   "metadata": {},
   "source": [
    "Resources:\n",
    "- [Decorators from geeksforgeeks](https://www.geeksforgeeks.org/decorators-in-python/)\n"
   ]
  },
  {
   "cell_type": "markdown",
   "metadata": {
    "vscode": {
     "languageId": "plaintext"
    }
   },
   "source": [
    "The most basic use case for a decorator in Python is to modify the behavior of a function or a method. Decorators allows you to:\n",
    "- **modify the behaviour of a function or class:**  wrap another function in order to extend the behavior of the wrapped function, without permanently modifying it.\n"
   ]
  },
  {
   "cell_type": "markdown",
   "metadata": {
    "vscode": {
     "languageId": "plaintext"
    }
   },
   "source": [
    "### Example 1: Function"
   ]
  },
  {
   "cell_type": "markdown",
   "metadata": {},
   "source": [
    "**Function can be treated as objects, functions can be passed as argument, function can return function**"
   ]
  },
  {
   "cell_type": "markdown",
   "metadata": {
    "vscode": {
     "languageId": "plaintext"
    }
   },
   "source": [
    "#### Defining Decorator"
   ]
  },
  {
   "cell_type": "code",
   "execution_count": 5,
   "metadata": {},
   "outputs": [],
   "source": [
    "def simple_decorator(func):\n",
    "    print('Inside simple_decorator')\n",
    "    def wrapper():\n",
    "        print(\"Before the function runs\")\n",
    "        func()\n",
    "        print(\"After the function runs\")\n",
    "\n",
    "    print('Outside simple_decorator')\n",
    "    return wrapper"
   ]
  },
  {
   "cell_type": "markdown",
   "metadata": {},
   "source": [
    "#### Use case"
   ]
  },
  {
   "cell_type": "code",
   "execution_count": 8,
   "metadata": {},
   "outputs": [
    {
     "name": "stdout",
     "output_type": "stream",
     "text": [
      "Hello!\n",
      "Inside simple_decorator\n",
      "Outside simple_decorator\n"
     ]
    },
    {
     "data": {
      "text/plain": [
       "<function __main__.simple_decorator.<locals>.wrapper()>"
      ]
     },
     "execution_count": 8,
     "metadata": {},
     "output_type": "execute_result"
    }
   ],
   "source": [
    "@simple_decorator\n",
    "def say_hello():\n",
    "    print(\"Hello!\")\n",
    "\n",
    "# simple_decorator(say_hello())"
   ]
  },
  {
   "cell_type": "markdown",
   "metadata": {},
   "source": [
    "say_hello is now actually the wrapper function that was defined inside simple_decorator."
   ]
  },
  {
   "cell_type": "code",
   "execution_count": 16,
   "metadata": {},
   "outputs": [
    {
     "name": "stdout",
     "output_type": "stream",
     "text": [
      "Inside simple_decorator\n",
      "Outside simple_decorator\n",
      "<function simple_decorator.<locals>.wrapper at 0x7f11b2be9940>\n"
     ]
    }
   ],
   "source": [
    "say_hello = simple_decorator(say_hello)\n",
    "print(say_hello)\n",
    "# say_hello()"
   ]
  },
  {
   "cell_type": "markdown",
   "metadata": {},
   "source": [
    "### Example 2: Decorating methods"
   ]
  },
  {
   "cell_type": "code",
   "execution_count": 17,
   "metadata": {},
   "outputs": [
    {
     "name": "stdout",
     "output_type": "stream",
     "text": [
      "Before say_hello is called\n",
      "Hello from MyClass!\n",
      "After say_hello is called\n",
      "Before greet is called\n",
      "Hello, Alice!\n",
      "After greet is called\n"
     ]
    }
   ],
   "source": [
    "def method_decorator(func):\n",
    "    def wrapper(self, *args, **kwargs):\n",
    "        print(f\"Before {func.__name__} is called\")\n",
    "        result = func(self, *args, **kwargs)\n",
    "        print(f\"After {func.__name__} is called\")\n",
    "        return result\n",
    "    return wrapper\n",
    "\n",
    "class MyClass:\n",
    "    @method_decorator\n",
    "    def say_hello(self):\n",
    "        print(\"Hello from MyClass!\")\n",
    "\n",
    "    @method_decorator\n",
    "    def greet(self, name):\n",
    "        print(f\"Hello, {name}!\")\n",
    "\n",
    "# Create an instance of MyClass\n",
    "obj = MyClass()\n",
    "\n",
    "# Call the methods\n",
    "obj.say_hello()\n",
    "obj.greet(\"Alice\")\n"
   ]
  },
  {
   "cell_type": "markdown",
   "metadata": {},
   "source": [
    "### Class Decorators"
   ]
  },
  {
   "cell_type": "code",
   "execution_count": 24,
   "metadata": {},
   "outputs": [],
   "source": [
    "def class_decorator(cls):\n",
    "    cls.decorated = True\n",
    "    cls.mentor = 'Sandesh'\n",
    "    return cls"
   ]
  },
  {
   "cell_type": "code",
   "execution_count": 25,
   "metadata": {},
   "outputs": [
    {
     "name": "stdout",
     "output_type": "stream",
     "text": [
      "True\n",
      "True\n",
      "Sandesh\n",
      "Hello from MyClass Instance!\n"
     ]
    }
   ],
   "source": [
    "@class_decorator\n",
    "class MyClass:\n",
    "    def __init__(self):\n",
    "        self.name = \"MyClass Instance\"\n",
    "    \n",
    "    def say_hello(self):\n",
    "        print(f\"Hello from {self.name}!\")\n",
    "\n",
    "obj = MyClass()\n",
    "print(hasattr(obj, 'decorated'))  \n",
    "print(hasattr(obj, 'mentor'))  \n",
    "print(obj.mentor)\n",
    "obj.say_hello()"
   ]
  },
  {
   "cell_type": "markdown",
   "metadata": {},
   "source": [
    "### @staticmethod"
   ]
  },
  {
   "cell_type": "markdown",
   "metadata": {},
   "source": [
    "A static method is a method that belongs to a class rather than to instances of the class. Unlike instance methods, static methods do not require a reference to an instance (self) or a reference to the class (cls). They are defined using the @staticmethod decorator and can be called on the class itself."
   ]
  },
  {
   "cell_type": "code",
   "execution_count": null,
   "metadata": {},
   "outputs": [],
   "source": [
    "class MyClass:\n",
    "    @staticmethod\n",
    "    def static_method():\n",
    "        print(\"This is a static method.\")\n",
    "\n",
    "# Calling the static method\n",
    "MyClass.static_method()"
   ]
  },
  {
   "cell_type": "code",
   "execution_count": null,
   "metadata": {},
   "outputs": [],
   "source": [
    "class MathUtils:\n",
    "\n",
    "    def __init__(self, value):\n",
    "        self.value = value\n",
    "\n",
    "    @staticmethod\n",
    "    def add(a, b):\n",
    "        return a + b\n",
    "\n",
    "    @staticmethod\n",
    "    def subtract(a, b):\n",
    "        return a - b\n",
    "    \n",
    "    def instance_method(self):\n",
    "        return f\"Instance method called. Value: {self.value}\"\n",
    "\n",
    "\n",
    "obj = MyClass(20)\n",
    "# Calling the static method from an instance\n",
    "result = obj.add(3, 7)\n",
    "print(result)  # Output: 10\n",
    "\n",
    "result = obj.instance_method()\n",
    "print(result)\n",
    "\n",
    "\n",
    "# Using the static methods\n",
    "result1 = MathUtils.add(5, 3)\n",
    "result2 = MathUtils.subtract(10, 7)\n",
    "\n",
    "print(result1)  # Output: 8\n",
    "print(result2)  # Output: 3\n"
   ]
  }
 ],
 "metadata": {
  "kernelspec": {
   "display_name": "Python 3",
   "language": "python",
   "name": "python3"
  },
  "language_info": {
   "codemirror_mode": {
    "name": "ipython",
    "version": 3
   },
   "file_extension": ".py",
   "mimetype": "text/x-python",
   "name": "python",
   "nbconvert_exporter": "python",
   "pygments_lexer": "ipython3",
   "version": "3.11.9"
  }
 },
 "nbformat": 4,
 "nbformat_minor": 2
}
